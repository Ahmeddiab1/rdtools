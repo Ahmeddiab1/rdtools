{
 "cells": [
  {
   "cell_type": "markdown",
   "metadata": {},
   "source": [
    "# Filtering test\n",
    "This notebook can be run to test the clearsky filtering implemented in `filtering.py`."
   ]
  },
  {
   "cell_type": "markdown",
   "metadata": {},
   "source": [
    "## Get irradiance data from NREL\n",
    "\n",
    "To download irradiance data from NREL's Solar Radiation Research Laboratory:\n",
    "1. Visit https://www.nrel.gov/midc/srrl_bms\n",
    "2. Choose the start and end dates to get ~ 1 month of data\n",
    "3. Check the irradiance parameter `Global 40-South CMP11`: this is the irradiance on a south-facing panel tilted 40 degrees\n",
    "4. Check the first output parameter, `Selected 1-Min Data (ASCII Text)`\n",
    "5. Download the data to `rdtools\\docs` by clicking `Submit`"
   ]
  },
  {
   "cell_type": "code",
   "execution_count": 19,
   "metadata": {
    "collapsed": false
   },
   "outputs": [
    {
     "name": "stdout",
     "output_type": "stream",
     "text": [
      "2015-08-23 05:23:00    1.82817\n",
      "2015-08-23 05:24:00    1.91263\n",
      "2015-08-23 05:25:00    2.19580\n",
      "2015-08-23 05:26:00    3.00556\n",
      "2015-08-23 05:27:00    3.74577\n",
      "Freq: T, Name: Global 40-South CMP11 [W/m^2], dtype: float64\n"
     ]
    }
   ],
   "source": [
    "data_loc = '20150823.csv'\n",
    "import pandas as pd\n",
    "data = pd.read_csv(data_loc)\n",
    "data['time'] = data.iloc[:,0] + ' ' + data.iloc[:,1]\n",
    "data = data.set_index(pd.to_datetime(data['time']))\n",
    "data.index = data.index.tz_localize('Etc/GMT+7').tz_convert('UTC')\n",
    "data = data[~data.index.duplicated(keep='first')]\n",
    "data = data.reindex(index=pd.date_range(start=data.index[0],end=data.index[-1],freq='1T')).fillna(0) # Since nighttime times might not be included\n",
    "irrad_long = data['Global 40-South CMP11 [W/m^2]']\n",
    "print(irrad_long.head())"
   ]
  },
  {
   "cell_type": "markdown",
   "metadata": {},
   "source": [
    "## Down-sample the data to some desired frequency\n",
    "The data from NREL is minutely; to test at slower frequencies, first down-sample the data. Here we will downsample to 30-minute, left-labelled bins. The left-labelling is important: when getting the clearsky irradiance values with `remove_cloudy_times`, the times will be shifted by half a period length (since we set `correct_bin_labelling=True` when calling the function). This way, the clearsky irradiance values returned correspond to the middle of the bin period."
   ]
  },
  {
   "cell_type": "code",
   "execution_count": 20,
   "metadata": {
    "collapsed": false
   },
   "outputs": [
    {
     "name": "stdout",
     "output_type": "stream",
     "text": [
      "2015-08-23 05:15:00     3.199307\n",
      "2015-08-23 05:30:00    13.616953\n",
      "2015-08-23 05:45:00    28.005867\n",
      "2015-08-23 06:00:00    56.415900\n",
      "2015-08-23 06:15:00    75.274593\n",
      "Freq: 15T, Name: Global 40-South CMP11 [W/m^2], dtype: float64\n"
     ]
    }
   ],
   "source": [
    "freq = 15 # minutes\n",
    "irrad = irrad_long.resample(str(freq)+'T',label='left').mean()\n",
    "data_filtered = data.resample(str(freq)+'T',label='left').mean()\n",
    "print(irrad.head())"
   ]
  },
  {
   "cell_type": "markdown",
   "metadata": {},
   "source": [
    "## Specify the properties of the PV system and perform the clearsky filtering\n",
    "This includes the coordinates and elevation of the system as well as its tilt and azimuth angles. Use these parameters to model the system in `PVLib`."
   ]
  },
  {
   "cell_type": "code",
   "execution_count": 21,
   "metadata": {
    "collapsed": true
   },
   "outputs": [],
   "source": [
    "# properties of the PV system at NREL's South Table Mountain site\n",
    "latlon = [39.742,-105.18]\n",
    "tilt = 40\n",
    "azimuth = 180\n",
    "elevation = 1828.8\n",
    "\n",
    "import pvlib\n",
    "\n",
    "# model the solar panel with PVLib\n",
    "system_noloc = pvlib.pvsystem.PVSystem(surface_tilt=tilt,surface_azimuth=azimuth)\n",
    "loc = pvlib.location.Location(latlon[0],latlon[1],altitude=elevation)\n",
    "system_loc = pvlib.pvsystem.LocalizedPVSystem(pvsystem=system_noloc,location=loc)"
   ]
  },
  {
   "cell_type": "markdown",
   "metadata": {},
   "source": [
    "Then, call `remove_cloudy_times`, which will filter out rows from the dataframe `data` when the series `irrad` is determined to be cloudy. Finally, based on which times are determined to be clear (stored in `is_clear`), filter out entire cloudy days from `irrad` with `remove_cloudy_days`. Days determined to be cloudy are those in which less than `thresh` portion of the points between `start_time` and `end_time` are clear.\n",
    "\n",
    "`remove_clear_times` will call a function `detect_clearsky_params`, which selects the input parameters to `detect_clearsky` based on the period of the data `w` (in minutes). Those parameters are:\n",
    "- `dur = max(15,w*3)`, the duration of the moving window in which `detect_clearsky` performs its calculations;\n",
    "- `mean_diff = max(75,w/2.0)`, the maximum allowable mean difference between the observed and clearsky irradiances during the moving window;\n",
    "- `max_diff = max(120,w/1.5)`, the maximum allowable maximum difference between the observed and clearsky irradiances during the moving window;\n",
    "- `lower_line_length = min(-25,-1.0*w/2.0)`, the lower limit for the difference in line length (when plotting irradiance vs time) between the observed and clearsky irradiances;\n",
    "- `upper_line_length = max(30,w/2.0)`, the upper limit for the difference in line length (when plotting irradiance vs time) between the observed and clearsky irradiances.\n",
    "\n",
    "There are other parameters that are not a function of the data period `w`:\n",
    "- `var_diff`, the maximum variance between the two time series;\n",
    "- `slope_dev`, the maximum allowable difference in slope between the two time series.\n",
    "Both these parameters are set to very high values, such that they won't cause any points to be considered cloudy.\n",
    "\n",
    "These parameters were arrived at via trial-and-error and haven't been tested over a range of data periods."
   ]
  },
  {
   "cell_type": "code",
   "execution_count": 22,
   "metadata": {
    "collapsed": false
   },
   "outputs": [
    {
     "ename": "ValueError",
     "evalue": "Time zone information required for times of irradiance measurement",
     "output_type": "error",
     "traceback": [
      "\u001b[0;31m---------------------------------------------------------------------------\u001b[0m",
      "\u001b[0;31mValueError\u001b[0m                                Traceback (most recent call last)",
      "\u001b[0;32m<ipython-input-22-12ae0ac44936>\u001b[0m in \u001b[0;36m<module>\u001b[0;34m()\u001b[0m\n\u001b[1;32m      5\u001b[0m \u001b[1;33m\u001b[0m\u001b[0m\n\u001b[1;32m      6\u001b[0m \u001b[1;31m# Remove the cloudy times with filtering.py\u001b[0m\u001b[1;33m\u001b[0m\u001b[1;33m\u001b[0m\u001b[0m\n\u001b[0;32m----> 7\u001b[0;31m \u001b[0mdf_filtered\u001b[0m\u001b[1;33m,\u001b[0m \u001b[0mis_clear\u001b[0m \u001b[1;33m=\u001b[0m \u001b[0mfiltering\u001b[0m\u001b[1;33m.\u001b[0m\u001b[0mremove_cloudy_times\u001b[0m\u001b[1;33m(\u001b[0m\u001b[0mdata_filtered\u001b[0m\u001b[1;33m,\u001b[0m\u001b[0mirrad\u001b[0m\u001b[1;33m,\u001b[0m\u001b[0msystem_loc\u001b[0m\u001b[1;33m,\u001b[0m\u001b[0mviz\u001b[0m\u001b[1;33m=\u001b[0m\u001b[0mTrue\u001b[0m\u001b[1;33m,\u001b[0m\u001b[0mcorrect_bin_labelling\u001b[0m\u001b[1;33m=\u001b[0m\u001b[0mTrue\u001b[0m\u001b[1;33m,\u001b[0m\u001b[0mreturn_when_clear\u001b[0m\u001b[1;33m=\u001b[0m\u001b[0mTrue\u001b[0m\u001b[1;33m)\u001b[0m\u001b[1;33m\u001b[0m\u001b[0m\n\u001b[0m\u001b[1;32m      8\u001b[0m \u001b[1;33m\u001b[0m\u001b[0m\n\u001b[1;32m      9\u001b[0m \u001b[1;31m# Based on these cloudy times, remove the cloudy days\u001b[0m\u001b[1;33m\u001b[0m\u001b[1;33m\u001b[0m\u001b[0m\n",
      "\u001b[0;32mC:\\Users\\druth\\Documents\\GitHub\\rdtools\\rdtools\\filtering.py\u001b[0m in \u001b[0;36mremove_cloudy_times\u001b[0;34m(df, irrad, system_loc, viz, correct_bin_labelling, return_when_clear)\u001b[0m\n\u001b[1;32m    116\u001b[0m     \u001b[1;31m# Get the clearsky irradiance\u001b[0m\u001b[1;33m\u001b[0m\u001b[1;33m\u001b[0m\u001b[0m\n\u001b[1;32m    117\u001b[0m     \u001b[1;32mif\u001b[0m \u001b[1;33m(\u001b[0m\u001b[0mirrad\u001b[0m\u001b[1;33m.\u001b[0m\u001b[0mindex\u001b[0m\u001b[1;33m.\u001b[0m\u001b[0mtzinfo\u001b[0m \u001b[1;32mis\u001b[0m \u001b[0mNone\u001b[0m\u001b[1;33m)\u001b[0m\u001b[1;33m:\u001b[0m\u001b[1;33m\u001b[0m\u001b[0m\n\u001b[0;32m--> 118\u001b[0;31m        \u001b[1;32mraise\u001b[0m \u001b[0mValueError\u001b[0m\u001b[1;33m(\u001b[0m\u001b[1;34m'Time zone information required for times of irradiance measurement'\u001b[0m\u001b[1;33m)\u001b[0m\u001b[1;33m\u001b[0m\u001b[0m\n\u001b[0m\u001b[1;32m    119\u001b[0m \u001b[1;33m\u001b[0m\u001b[0m\n\u001b[1;32m    120\u001b[0m     \u001b[0mclearsky\u001b[0m \u001b[1;33m=\u001b[0m \u001b[0mget_clearsky_irrad\u001b[0m\u001b[1;33m(\u001b[0m\u001b[0msystem_loc\u001b[0m\u001b[1;33m,\u001b[0m \u001b[0mirrad\u001b[0m\u001b[1;33m.\u001b[0m\u001b[0mindex\u001b[0m\u001b[1;33m,\u001b[0m \u001b[0mcorrect_bin_labelling\u001b[0m\u001b[1;33m=\u001b[0m\u001b[0mcorrect_bin_labelling\u001b[0m\u001b[1;33m)\u001b[0m\u001b[1;33m\u001b[0m\u001b[0m\n",
      "\u001b[0;31mValueError\u001b[0m: Time zone information required for times of irradiance measurement"
     ]
    }
   ],
   "source": [
    "import os, sys\n",
    "lib_path = os.path.abspath(os.path.join('..', 'rdtools'))\n",
    "sys.path.append(lib_path)\n",
    "import filtering\n",
    "\n",
    "# Remove the cloudy times with filtering.py\n",
    "df_filtered, is_clear = filtering.remove_cloudy_times(data_filtered,irrad,system_loc,viz=True,correct_bin_labelling=True,return_when_clear=True)    \n",
    "\n",
    "# Based on these cloudy times, remove the cloudy days\n",
    "just_clear_days = filtering.remove_cloudy_days(irrad,is_clear,start_time='8:00',end_time='16:00',thresh=0.8)"
   ]
  },
  {
   "cell_type": "markdown",
   "metadata": {},
   "source": [
    "Plot the original irradiance and irradiance from days selected as clearsky days with `remove_cloudy_days`."
   ]
  },
  {
   "cell_type": "code",
   "execution_count": null,
   "metadata": {
    "collapsed": false
   },
   "outputs": [],
   "source": [
    "import matplotlib.pyplot as plt\n",
    "\n",
    "fig = plt.figure(figsize=(15,7))\n",
    "ax=fig.add_subplot(111)\n",
    "ax.plot(irrad,label='All irradiance')\n",
    "ax.plot(just_clear_days,label='Just clear days')\n",
    "ax.legend()\n",
    "plt.show()"
   ]
  },
  {
   "cell_type": "code",
   "execution_count": null,
   "metadata": {
    "collapsed": true
   },
   "outputs": [],
   "source": []
  },
  {
   "cell_type": "code",
   "execution_count": null,
   "metadata": {
    "collapsed": true
   },
   "outputs": [],
   "source": []
  }
 ],
 "metadata": {
  "anaconda-cloud": {},
  "kernelspec": {
   "display_name": "Python [default]",
   "language": "python",
   "name": "python2"
  },
  "language_info": {
   "codemirror_mode": {
    "name": "ipython",
    "version": 2
   },
   "file_extension": ".py",
   "mimetype": "text/x-python",
   "name": "python",
   "nbconvert_exporter": "python",
   "pygments_lexer": "ipython2",
   "version": "2.7.13"
  }
 },
 "nbformat": 4,
 "nbformat_minor": 1
}
