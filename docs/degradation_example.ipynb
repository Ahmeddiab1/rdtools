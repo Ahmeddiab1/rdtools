{
 "cells": [
  {
   "cell_type": "markdown",
   "metadata": {},
   "source": [
    "# Degradation example with clearsky workflow\n",
    "\n",
    "\n",
    "This juypter notebook is intended to illustrate the degradation analysis workflow.  In addition, the notebook demonstrates the effects of changes in the workflow.\n",
    "\n",
    "The degradation calculations consist of several steps illustrated here:\n",
    "<ol start=\"0\">\n",
    "  <li><b>Import and preliminary calculations</b></li>\n",
    "  <li><b>Normalize</b> data using a performance metric</li>\n",
    "  <li><b>Filter</b> data that creates bias</li>\n",
    "  <li><b>Aggregate data</b></li>\n",
    "  <li> <b>Analyze</b> aggregated data to estimate the degradation rate</li>\n",
    "</ol>\n",
    "\n",
    "After demonstrating these steps using sensor data, a modified version of the workflow is illustrated using modled clear sky irradiance and temperature. The results from the two methods are compared\n",
    "\n",
    "This notebook works with public data from the the Desert Knowledge Australia Solar Centre. Please download the site data from Site 12, and unzip the csv file in the folder:\n",
    "./rdtools/docs/\n",
    "\n",
    "http://dkasolarcentre.com.au/historical-data/download"
   ]
  },
  {
   "cell_type": "code",
   "execution_count": null,
   "metadata": {},
   "outputs": [],
   "source": [
    "from datetime import timedelta\n",
    "import pandas as pd\n",
    "import matplotlib.pyplot as plt\n",
    "import numpy as np\n",
    "import pvlib\n",
    "%matplotlib inline\n",
    "\n",
    "#Update the style of plots\n",
    "import matplotlib\n",
    "matplotlib.rcParams.update({'font.size': 12,\n",
    "                           'figure.figsize': [4.5, 3],\n",
    "                           'lines.markeredgewidth': 0,\n",
    "                           'lines.markersize': 2\n",
    "                           })\n",
    "\n",
    "import rdtools"
   ]
  },
  {
   "cell_type": "markdown",
   "metadata": {},
   "source": [
    "# 0: Import and preliminary calculations\n",
    "\n",
    "\n",
    "This section prepares the data necesary for an `rdtools` calculation. The first step of the `rdtools` workflow is normaliztion, which requires a time series of energy yield, a time series of cell temperature, and a time series of irradiance, along with some metadata (see Step 1: Normalize)\n",
    "\n",
    "The following section loads the data, adjusts units where needed, and renames the critical columns. The irradiance sensor data source is transposed to plane-of-array, and the temperature sensor data source is converted into estimated cell temperature.\n",
    "\n",
    "A common challenge is handling datasets with and without daylight savings time. Make sure to specify a `pytz` timezone that does or does not include daylight savings time as appropriate for your dataset.\n",
    "\n",
    "<b>The steps of this section may change depending on your data source or the system being considered. Note that nothing in this first section utlizes the `rdtools` library.</b> Transposition of irradiance and modeling of cell temperature are generally outside the scope of `rdtools`. A variety of tools for these calculations are avaialble in [`pvlib`](https://github.com/pvlib/pvlib-python)."
   ]
  },
  {
   "cell_type": "code",
   "execution_count": null,
   "metadata": {},
   "outputs": [],
   "source": [
    "file_name = '84-Site_12-BP-Solar.csv'\n",
    "\n",
    "df = pd.read_csv(file_name)\n",
    "df = df.rename(columns = {\n",
    "    '12 BP Solar - Active Power (kW)':'power',\n",
    "    '12 BP Solar - Wind Speed (m/s)': 'wind',\n",
    "    '12 BP Solar - Weather Temperature Celsius (\\xc2\\xb0C)': 'Tamb',\n",
    "    '12 BP Solar - Global Horizontal Radiation (W/m\\xc2\\xb2)': 'ghi',\n",
    "    '12 BP Solar - Diffuse Horizontal Radiation (W/m\\xc2\\xb2)': 'dhi'\n",
    "})\n",
    "\n",
    "# Specify the Metadata\n",
    "meta = {\"latitude\": -23.762028,\n",
    "        \"longitude\": 133.874886,\n",
    "        \"timezone\": 'Australia/North',\n",
    "        \"tempco\": -0.005,\n",
    "        \"azimuth\": 0,\n",
    "        \"tilt\": 20,\n",
    "        \"pdc\": 5100.0,\n",
    "        \"temp_model\": 'open_rack_cell_polymerback'}\n",
    "\n",
    "df.index = pd.to_datetime(df.Timestamp)\n",
    "# TZ is required for irradiance transposition\n",
    "df.index = df.index.tz_localize(meta['timezone'], ambiguous = 'infer') \n",
    "\n",
    "# Explicitly trim the dates so that runs of this example notebook \n",
    "# are comparable when the sourec dataset has been downloaded at different times\n",
    "df = df['2008-11-11':'2017-05-15']\n",
    "\n",
    "# Chage power from kilowatts to watts\n",
    "df['power'] = df.power * 1000.0 \n",
    "# There is some missing data, but we can infer the frequency from the first several data points\n",
    "freq = pd.infer_freq(df.index[:10])\n",
    "\n",
    "# And then set the frequency of the dataframe\n",
    "df = df.resample(freq).median()\n",
    "\n",
    "# Calculate energy yield in Wh\n",
    "df['energy'] = df.power * pd.to_timedelta(df.power.index.freq).total_seconds()/(3600.0)\n",
    "\n",
    "# Calculate POA irradiance from DHI, GHI inputs\n",
    "loc = pvlib.location.Location(meta['latitude'], meta['longitude'], tz = meta['timezone'])\n",
    "sun = loc.get_solarposition(df.index)\n",
    "\n",
    "# calculate the POA irradiance\n",
    "sky = pvlib.irradiance.isotropic(meta['tilt'], df.dhi)\n",
    "df['dni'] = (df.ghi - df.dhi)/np.cos(np.deg2rad(sun.zenith))\n",
    "beam = pvlib.irradiance.beam_component(meta['tilt'], meta['azimuth'], sun.zenith, sun.azimuth, df.dni)\n",
    "df['poa'] = beam + sky\n",
    "\n",
    "# Calculate cell temperature\n",
    "df_temp = pvlib.pvsystem.sapm_celltemp(df.poa, df.wind, df.Tamb, model = meta['temp_model'])\n",
    "df['Tcell'] = df_temp.temp_cell\n",
    "\n",
    "# plot the AC power time series\n",
    "fig, ax = plt.subplots(figsize=(4,3))\n",
    "ax.plot(df.index._mpl_repr(), df.power, 'o', alpha = 0.01)\n",
    "ax.set_ylim(0,7000)\n",
    "fig.autofmt_xdate()\n",
    "ax.set_ylabel('AC Power (W)');"
   ]
  },
  {
   "cell_type": "markdown",
   "metadata": {},
   "source": [
    "# 1: Normalize\n",
    "\n",
    "Data normalization is achieved with `rdtools.normalize_with_pvwatts()`. We provide a time sereis of energy, along with keywords used to run a pvwatts model of the system. More information available in the docstring."
   ]
  },
  {
   "cell_type": "code",
   "execution_count": null,
   "metadata": {},
   "outputs": [],
   "source": [
    "# Specify the keywords for the pvwatts model\n",
    "pvwatts_kws = {\"poa_global\" : df.poa,\n",
    "              \"P_ref\" : meta['pdc'],\n",
    "              \"T_cell\" : df.Tcell,\n",
    "              \"G_ref\" : 1000,\n",
    "              \"T_ref\": 25,\n",
    "              \"gamma_pdc\" : meta['tempco']}\n",
    "\n",
    "# Calculate the normaliztion, the function also returns the relevant insolation for\n",
    "# each point in the normalized PV energy timeseries\n",
    "normalized, insolation = rdtools.normalize_with_pvwatts(df.energy, pvwatts_kws)\n",
    "\n",
    "df['normalized'] = normalized\n",
    "df['insolation'] = insolation\n",
    "\n",
    "# Plot the normalized power time series\n",
    "fig, ax = plt.subplots()\n",
    "ax.plot(normalized.index._mpl_repr(), normalized, 'o', alpha = 0.05)\n",
    "ax.set_ylim(0,2)\n",
    "fig.autofmt_xdate()\n",
    "ax.set_ylabel('Normalized energy');"
   ]
  },
  {
   "cell_type": "markdown",
   "metadata": {},
   "source": [
    "# 2: Filter\n",
    "\n",
    "Data filtering is used to exclude data points that represent invalid data, create bias in the analysis, or introduce significant noise.\n",
    "\n",
    "It can also be useful to remove outages and outliers. Sometimes outages appear as low but non-zero yield. Automatic functions for this are not yet included in `rdtools`. Such filters should be implimented by the analyst if needed."
   ]
  },
  {
   "cell_type": "code",
   "execution_count": null,
   "metadata": {},
   "outputs": [],
   "source": [
    "# Calculate a collection of boolean masks that can be used\n",
    "# to filter the time series\n",
    "nz_mask = (df['normalized'] > 0)\n",
    "poa_mask = rdtools.poa_filter(df['poa'])\n",
    "tcell_mask = rdtools.tcell_filter(df['Tcell'])\n",
    "clip_mask = rdtools.clip_filter(df['power'])\n",
    "\n",
    "# filter the time series and keep only the columns needed for the\n",
    "# remaining steps\n",
    "filtered = df[nz_mask & poa_mask & tcell_mask & clip_mask]\n",
    "filtered = filtered[['insolation', 'normalized']]\n",
    "\n",
    "fig, ax = plt.subplots()\n",
    "ax.plot(filtered.index._mpl_repr(), filtered.normalized, 'o', alpha = 0.05)\n",
    "ax.set_ylim(0,2)\n",
    "fig.autofmt_xdate()\n",
    "ax.set_ylabel('Normalized energy');"
   ]
  },
  {
   "cell_type": "markdown",
   "metadata": {},
   "source": [
    "# 3: Aggregate\n",
    "\n",
    "Data is aggregated with an irradiance weighted average. This can be useful, for example with daily aggregation, to reduce the impact of high-error data points in the morning and evening."
   ]
  },
  {
   "cell_type": "code",
   "execution_count": null,
   "metadata": {},
   "outputs": [],
   "source": [
    "daily = rdtools.aggregation_insol(filtered.normalized, filtered.insolation, frequency = 'D')\n",
    "\n",
    "fig, ax = plt.subplots()\n",
    "ax.plot(daily.index._mpl_repr(), daily, 'o', alpha = 0.1)\n",
    "ax.set_ylim(0,2)\n",
    "fig.autofmt_xdate()\n",
    "ax.set_ylabel('Normalized energy');"
   ]
  },
  {
   "cell_type": "markdown",
   "metadata": {},
   "source": [
    "# 4: Degradation calculation\n",
    "\n",
    "Data is then analyzed to estimate the degradation rate representing the PV system behavior. The results are visualized and statistics are reported, including the 68.2% confidence interval, and the P95 exceedence value."
   ]
  },
  {
   "cell_type": "code",
   "execution_count": null,
   "metadata": {},
   "outputs": [],
   "source": [
    "# Calculate the degradation rate using the YoY method\n",
    "yoy_rd, yoy_ci, yoy_info = rdtools.degradation_year_on_year(daily)\n",
    "\n",
    "\n",
    "# Visualize the results\n",
    "start = daily.index._mpl_repr()[0]\n",
    "end = daily.index._mpl_repr()[-1]\n",
    "years = (end - start).days / 365.0\n",
    "yoy_values = yoy_info['YoY_values']\n",
    "\n",
    "x = [start, end]\n",
    "y = [1, 1 + (yoy_rd * years)/100]\n",
    "\n",
    "fig, (ax1, ax2) = plt.subplots(1,2, figsize=(10, 3))\n",
    "ax2.hist(yoy_values, label='YOY', bins=len(yoy_values)/40)\n",
    "ax2.axvline(x=yoy_rd, color='black', linestyle='dashed', linewidth=3)\n",
    "ax2.set_xlim(-30,45)\n",
    "ax2.annotate( u' $R_{d}$ = %.2f%%/yr \\n confidence interval: \\n %.2f to %.2f %%/yr' \n",
    "             %(yoy_rd, yoy_ci[0], yoy_ci[1]),  xy=(0.5, 0.7), xycoords='axes fraction',\n",
    "            bbox=dict(facecolor='white', edgecolor=None, alpha = 0))\n",
    "ax2.set_xlabel('Annual degradation (%)');\n",
    "\n",
    "ax1.plot(daily.index._mpl_repr(), daily/yoy_info['renormalizing_factor'], 'o', alpha = 0.5)\n",
    "ax1.plot(x, y, 'k--', linewidth=3)\n",
    "ax1.set_xlabel('Date')\n",
    "ax1.set_ylabel('Renormalized Energy')\n",
    "ax1.set_ylim(0.5, 1.1)\n",
    "fig.autofmt_xdate()\n",
    "\n",
    "fig.suptitle('Sensor-based degradation results');"
   ]
  },
  {
   "cell_type": "markdown",
   "metadata": {},
   "source": [
    "In addition to the confidence interval, the year-on-year method yields an exceedence value (e.g. P95), the degradation rate that was exceeded (slower degradation) with a given probability level. The probability level is set via the `exceedence_prob` keyword in `degradation_year_on_year`."
   ]
  },
  {
   "cell_type": "code",
   "execution_count": null,
   "metadata": {},
   "outputs": [],
   "source": [
    "print 'The P95 exceedance level is %.2f%%/yr' % yoy_info['exceedance_level']"
   ]
  },
  {
   "cell_type": "markdown",
   "metadata": {},
   "source": [
    "# Clear sky workflow\n",
    "The clear sky workflow is useful in that it avoids problems due to drift or recalibration of ground-based sensors. We use `pvlib` to model the clear sky irradiance. This is renormalized to align it with ground-based measurements. Finally we use `rdtools.get_clearsky_tamb()` to model the ambient temperature on clear sky days. This modeled ambient temperature is used to model cell temperature with `pvlib`. If high quality amabient temperature data is available, that can be used instead of the modeled ambient; we proceed with the modeled ambient temperature here for illustrative purposes.\n",
    "\n",
    "In this example, note that we have omitted wind data in the cell temperature calculations for illustrative purposes. Wind data can also be included when the data source is trusted for improved results\n",
    "\n",
    "**Note that the claculations below rely on some objects from the steps above**"
   ]
  },
  {
   "cell_type": "markdown",
   "metadata": {},
   "source": [
    "# Clear Sky 0: Preliminary Calculations"
   ]
  },
  {
   "cell_type": "code",
   "execution_count": null,
   "metadata": {
    "collapsed": true
   },
   "outputs": [],
   "source": [
    "# Calculate the clear sky POA irradiance\n",
    "clearsky = loc.get_clearsky(df.index, solar_position = sun)\n",
    "cs_sky = pvlib.irradiance.isotropic(meta['tilt'], clearsky.dhi)\n",
    "cs_beam = pvlib.irradiance.beam_component(meta['tilt'], meta['azimuth'], sun.zenith, sun.azimuth, clearsky.dni)\n",
    "df['clearsky_poa'] = cs_beam + cs_sky\n",
    "\n",
    "# Renormalize the clear sky POA irradiance\n",
    "df['clearsky_poa'] = rdtools.irradiance_rescale(df.poa, df.clearsky_poa)\n",
    "\n",
    "# Calculate the clearsky temperature\n",
    "df['clearsky_Tamb'] = rdtools.get_clearsky_tamb(df.index, meta['latitude'], meta['longitude'])\n",
    "df_clearsky_temp = pvlib.pvsystem.sapm_celltemp(df.clearsky_poa, 0, df.clearsky_Tamb, model = meta['temp_model'])\n",
    "df['clearsky_Tcell'] = df_clearsky_temp.temp_cell"
   ]
  },
  {
   "cell_type": "markdown",
   "metadata": {},
   "source": [
    "# Clear Sky 1: Normalize\n",
    "Normalize as in step 1 above, but this time using clearsky modeled irradiance and cell temperature"
   ]
  },
  {
   "cell_type": "code",
   "execution_count": null,
   "metadata": {
    "collapsed": true
   },
   "outputs": [],
   "source": [
    "clearsky_pvwatts_kws = {\"poa_global\" : df.clearsky_poa,\n",
    "              \"P_ref\" : meta['pdc'],\n",
    "              \"T_cell\" :df.clearsky_Tcell,\n",
    "              \"G_ref\" : 1000,\n",
    "              \"T_ref\": 25,\n",
    "              \"gamma_pdc\" : meta['tempco']}\n",
    "\n",
    "clearsky_normalized, clearsky_insolation = rdtools.normalize_with_pvwatts(df.energy, clearsky_pvwatts_kws)\n",
    "\n",
    "df['clearsky_normalized'] = clearsky_normalized\n",
    "df['clearsky_insolation'] = clearsky_insolation"
   ]
  },
  {
   "cell_type": "markdown",
   "metadata": {},
   "source": [
    "# Clear Sky 2: Filter\n",
    "Filter as in step 2 above, but with the addition of a clear sky index (csi) filter so we consider only points well modeled by the clear sky irradiance model."
   ]
  },
  {
   "cell_type": "code",
   "execution_count": null,
   "metadata": {
    "collapsed": true
   },
   "outputs": [],
   "source": [
    "# Perform clearsky filter\n",
    "cs_nz_mask = (df['clearsky_normalized'] > 0)\n",
    "cs_poa_mask = rdtools.poa_filter(df['clearsky_poa'])\n",
    "cs_tcell_mask = rdtools.tcell_filter(df['clearsky_Tcell'])\n",
    "\n",
    "csi_mask = rdtools.csi_filter(df.insolation, df.clearsky_insolation)\n",
    "\n",
    "\n",
    "clearsky_filtered = df[cs_nz_mask & cs_poa_mask & cs_tcell_mask & clip_mask & csi_mask]\n",
    "clearsky_filtered = clearsky_filtered[['clearsky_insolation', 'clearsky_normalized']]"
   ]
  },
  {
   "cell_type": "markdown",
   "metadata": {},
   "source": [
    "# Clear Sky 3: Aggregate\n",
    "Aggregate the clear sky version of of the filtered data "
   ]
  },
  {
   "cell_type": "code",
   "execution_count": null,
   "metadata": {
    "collapsed": true
   },
   "outputs": [],
   "source": [
    "clearsky_daily = rdtools.aggregation_insol(clearsky_filtered.clearsky_normalized, clearsky_filtered.clearsky_insolation)"
   ]
  },
  {
   "cell_type": "markdown",
   "metadata": {},
   "source": [
    "# Clear Sky 4: Degradation Calculation\n",
    "Estimate the degradation rate and compare to the results obtained with sensors. In this case, we see that irradiance sensor drift may have biased the sensor-based results, a problem that is corrected by the clear sky approach."
   ]
  },
  {
   "cell_type": "code",
   "execution_count": null,
   "metadata": {},
   "outputs": [],
   "source": [
    "# Calculate the degradation rate using the YoY method\n",
    "cs_yoy_rd, cs_yoy_ci, cs_yoy_info = rdtools.degradation_year_on_year(clearsky_daily)\n",
    "\n",
    "# Visualize the results\n",
    "cs_start = clearsky_daily.index._mpl_repr()[0]\n",
    "cs_end = clearsky_daily.index._mpl_repr()[-1]\n",
    "cs_years = (cs_end - cs_start).days / 365.0\n",
    "cs_yoy_values = cs_yoy_info['YoY_values']\n",
    "\n",
    "cs_x = [cs_start, cs_end]\n",
    "cs_y = [1, 1 + (cs_yoy_rd * cs_years)/100]\n",
    "\n",
    "fig, (ax1, ax2) = plt.subplots(1,2, figsize=(10, 3))\n",
    "ax2.hist(cs_yoy_values, label='YOY', bins=len(cs_yoy_values)/40, color = 'orangered')\n",
    "ax2.axvline(x=cs_yoy_rd, color='black', linestyle='dashed', linewidth=3)\n",
    "ax2.set_xlim(-30,45)\n",
    "ax2.annotate( u' $R_{d}$ = %.2f%%/yr \\n confidence interval: \\n %.2f to %.2f %%/yr' \n",
    "             %(cs_yoy_rd, cs_yoy_ci[0], cs_yoy_ci[1]),  xy=(0.5, 0.7), xycoords='axes fraction',\n",
    "            bbox=dict(facecolor='white', edgecolor=None, alpha = 0))\n",
    "ax2.set_xlabel('Annual degradation (%)');\n",
    "\n",
    "ax1.plot(clearsky_daily.index._mpl_repr(), clearsky_daily/cs_yoy_info['renormalizing_factor'], 'o', color = 'orangered', alpha = 0.5)\n",
    "ax1.plot(cs_x, cs_y, 'k--', linewidth=3)\n",
    "ax1.set_xlabel('Date')\n",
    "ax1.set_ylabel('Renormalized Energy')\n",
    "ax1.set_ylim(0.5, 1.1)\n",
    "fig.autofmt_xdate()\n",
    "\n",
    "fig.suptitle('Clear-sky-based degradation results');\n",
    "\n",
    "\n",
    "\n",
    "# repeat the plots from above\n",
    "fig, (ax1, ax2) = plt.subplots(1,2, figsize=(10, 3))\n",
    "ax2.hist(yoy_values, label='YOY', bins=len(yoy_values)/40)\n",
    "ax2.axvline(x=yoy_rd, color='black', linestyle='dashed', linewidth=3)\n",
    "ax2.set_xlim(-30,45)\n",
    "ax2.annotate( u' $R_{d}$ = %.2f%%/yr \\n confidence interval: \\n %.2f to %.2f %%/yr' \n",
    "             %(yoy_rd, yoy_ci[0], yoy_ci[1]),  xy=(0.5, 0.7), xycoords='axes fraction',\n",
    "            bbox=dict(facecolor='white', edgecolor=None, alpha = 0))\n",
    "ax2.set_xlabel('Annual degradation (%)');\n",
    "\n",
    "ax1.plot(daily.index._mpl_repr(), daily/yoy_info['renormalizing_factor'], 'o', alpha = 0.5)\n",
    "ax1.plot(x, y, 'k--', linewidth=3)\n",
    "ax1.set_xlabel('Date')\n",
    "ax1.set_ylabel('Renormalized Energy')\n",
    "ax1.set_ylim(0.5, 1.1)\n",
    "fig.autofmt_xdate()\n",
    "\n",
    "fig.suptitle('Sensor-based degradation results');\n",
    "\n",
    "print 'The P95 exceedance level with the clear sky analysis is %.2f%%/yr' % cs_yoy_info['exceedance_level']"
   ]
  },
  {
   "cell_type": "code",
   "execution_count": null,
   "metadata": {
    "collapsed": true
   },
   "outputs": [],
   "source": []
  }
 ],
 "metadata": {
  "anaconda-cloud": {},
  "kernelspec": {
   "display_name": "Python 2",
   "language": "python",
   "name": "python2"
  },
  "language_info": {
   "codemirror_mode": {
    "name": "ipython",
    "version": 2
   },
   "file_extension": ".py",
   "mimetype": "text/x-python",
   "name": "python",
   "nbconvert_exporter": "python",
   "pygments_lexer": "ipython2",
   "version": "2.7.14"
  }
 },
 "nbformat": 4,
 "nbformat_minor": 1
}
