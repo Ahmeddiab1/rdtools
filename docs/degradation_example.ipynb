{
 "cells": [
  {
   "cell_type": "markdown",
   "metadata": {},
   "source": [
    "# Degradation example\n",
    "\n",
    "\n",
    "This juypter notebook is intended to test the degradation analysis workflow.  In addition, the notebook demonstrates the effects of changes in the workflow.\n",
    "\n",
    "Degradation analysis of PV systems includes several steps:\n",
    "1. <b>Standardize</b> data inputs\n",
    "2. <b>Normalize</b> data using a performance metric\n",
    "3. <b>Filter</b> data that creates bias \n",
    "4. <b>Analyze</b> aggregated data to estimate the degradation rate\n",
    "\n"
   ]
  },
  {
   "cell_type": "code",
   "execution_count": null,
   "metadata": {
    "collapsed": false
   },
   "outputs": [],
   "source": [
    "from datetime import timedelta\n",
    "import pandas as pd\n",
    "import matplotlib.pyplot as plt\n",
    "import numpy as np\n",
    "import pvlib\n",
    "%matplotlib inline\n",
    "\n",
    "#Update the style of plots\n",
    "import matplotlib\n",
    "matplotlib.rcParams.update({'font.size': 12,\n",
    "                           'figure.figsize': [4.5, 3],\n",
    "                           'lines.markeredgewidth': 0,\n",
    "                           'lines.markersize': 2\n",
    "                           })\n",
    "\n",
    "import rdtools\n"
   ]
  },
  {
   "cell_type": "markdown",
   "metadata": {},
   "source": [
    "# 1. <b>Standardize</b>\n",
    "\n",
    "Please download the site data from Site 12, and unzip the csv file in the folder:\n",
    "./rdtools/docs/\n",
    "\n",
    "http://dkasolarcentre.com.au/historical-data/download\n",
    "\n",
    "The following script loads the data, parses a pandas.DateTimeIndex, and renames the critical pandas.Series objects.\n",
    "\n"
   ]
  },
  {
   "cell_type": "code",
   "execution_count": null,
   "metadata": {
    "collapsed": false
   },
   "outputs": [],
   "source": [
    "file_name = '84-Site_12-BP-Solar.csv'\n",
    "\n",
    "df_raw = pd.DataFrame.from_csv(file_name, index_col=0, parse_dates=True)\n",
    "\n",
    "df = pd.DataFrame()\n",
    "df['ac power'] = df_raw.iloc[:,2]\n",
    "df['ghor'] = df_raw.iloc[:,8]\n",
    "df['tamb'] = df_raw.iloc[:,6]\n",
    "\n",
    "# downsample, degradation_year_on_year does not currently support 5-minute data\n",
    "df = df.asfreq('15T') \n",
    "\n",
    "# plot the AC power time series\n",
    "fig, ax = plt.subplots()\n",
    "ax.plot(df.index, df['ac power'], 'o', alpha = 0.1)\n",
    "ax.set_ylim(0,7)\n",
    "fig.autofmt_xdate()\n",
    "ax.set_ylabel('AC Power (kW)');"
   ]
  },
  {
   "cell_type": "markdown",
   "metadata": {
    "collapsed": false
   },
   "source": [
    "# 2. <b>Normalize</b> \n",
    "\n",
    "Data normalization typically requires some additional metadata about the PV system power time series.  Metadata consists of site location information, module product details, PV circuit configuration, and other items."
   ]
  },
  {
   "cell_type": "code",
   "execution_count": null,
   "metadata": {
    "collapsed": false
   },
   "outputs": [],
   "source": [
    "meta = {\"altitude\":0,\n",
    "       \"latitude\": -23.761878,\n",
    "       \"longitude\": 133.874846,\n",
    "       \"Name\": \"Alice Springs\",\n",
    "       \"State\": \"n/a\",\n",
    "       \"TZ\": 8.5}\n",
    "\n",
    "pv = pvlib.pvsystem.systemdef(meta, -10, 0, albedo=0.2, modules_per_string=7, strings_per_inverter=5)\n",
    "\n",
    "\n",
    "pvwatts_kws = {\"poa_global\" : df['ghor'],\n",
    "              \"P_ref\" : 10.5,\n",
    "              \"T_cell\" : df['tamb'],\n",
    "              \"G_ref\" : 1000,\n",
    "              \"T_ref\": 25,\n",
    "              \"gamma_pdc\" : -0.0041}\n",
    "\n",
    "normalized = rdtools.normalize_with_pvwatts(df['ac power'], pvwatts_kws)\n",
    "\n",
    "\n",
    "# Plot the normalized power time series\n",
    "fig, ax = plt.subplots()\n",
    "ax.plot(normalized.index, normalized, 'o', alpha = 0.05)\n",
    "ax.set_ylim(0,1.4)\n",
    "fig.autofmt_xdate()\n",
    "ax.set_ylabel('Normalized power');"
   ]
  },
  {
   "cell_type": "markdown",
   "metadata": {},
   "source": [
    "# 3. <b>Filter</b> \n",
    "\n",
    "Data filtering is used to exclude data points that represent invalid data, create bias in the analysis, or introduce significant noise.\n"
   ]
  },
  {
   "cell_type": "code",
   "execution_count": null,
   "metadata": {
    "collapsed": false
   },
   "outputs": [],
   "source": [
    "# Perform rudimetary filtering, more advanced filtering will be integrated\n",
    "# into Rdtools in the future\n",
    "filtered = normalized[(normalized > 0) & (normalized < 20)]\n",
    "\n",
    "\n",
    "#after filtering, center the data at PR_t0 = 1\n",
    "def center_data(series):\n",
    "    v = series.resample('12M').median().max()    \n",
    "    return series / v\n",
    "\n",
    "filtered = center_data(filtered)\n",
    "\n",
    "\n",
    "# Plot the normalized and filtered power time series\n",
    "fig, ax = plt.subplots()\n",
    "ax.plot(normalized.index, normalized, 'o', alpha = 0.05)\n",
    "ax.plot(filtered.index, filtered, 'o', alpha = 0.05)\n",
    "ax.set_ylim(0,1.4)\n",
    "fig.autofmt_xdate()\n",
    "ax.set_ylabel('Normalized power');\n"
   ]
  },
  {
   "cell_type": "markdown",
   "metadata": {},
   "source": [
    "# 4. <b>Analyze</b>\n",
    "\n",
    "Data is then analyzed to estimate the degradation rate representing the PV system behavior.  The data may or may not be aggregated by this step.  \n",
    "\n"
   ]
  },
  {
   "cell_type": "code",
   "execution_count": null,
   "metadata": {
    "collapsed": false
   },
   "outputs": [],
   "source": [
    "ols = rdtools.degradation.degradation_ols(filtered)\n",
    "print \"degradation_ols\", ols\n",
    "\n",
    "yoy = rdtools.degradation.degradation_year_on_year(filtered)\n",
    "print \"degradation_year_on_year\", yoy"
   ]
  },
  {
   "cell_type": "code",
   "execution_count": null,
   "metadata": {
    "collapsed": false
   },
   "outputs": [],
   "source": [
    "# plot the regression through the normalized data \n",
    "fig, ax = plt.subplots()\n",
    "ax.plot(filtered.index, filtered, 'o', alpha = 0.05)\n",
    "x_vals = np.array(ax.get_xlim())\n",
    "y_vals = ols['intercept'] + ols['slope'] * (x_vals-min(x_vals)) / 365\n",
    "ax.plot(x_vals, y_vals, '--k')\n",
    "\n",
    "ax.set_ylim(0,1.4)\n",
    "fig.autofmt_xdate()\n",
    "ax.set_ylabel('Normalized power');"
   ]
  },
  {
   "cell_type": "code",
   "execution_count": null,
   "metadata": {
    "collapsed": false
   },
   "outputs": [],
   "source": [
    "# Plot the year-on-year distribution\n",
    "YoY_filtered1 = yoy['YoY_filtered']\n",
    "YOY_median = yoy['Rd_median']\n",
    "plt.hist(YoY_filtered1, alpha=0.5, label='YOY', bins=int(YoY_filtered1.__len__()/4))\n",
    "plt.axvline(x=YOY_median, color='black', linestyle='dashed', linewidth=3)\n",
    "#plt.legend(loc='upper right')\n",
    "plt.title('Year-on-Year 15-minute Distribution \\n Data outside +/-100 removed')   \n",
    "plt.tight_layout(w_pad=1, h_pad=2.0)\n",
    "plt.xlabel('Annual degradation (%)')"
   ]
  }
 ],
 "metadata": {
  "anaconda-cloud": {},
  "kernelspec": {
   "display_name": "Python [conda env:kWhAenv]",
   "language": "python",
   "name": "conda-env-kWhAenv-py"
  },
  "language_info": {
   "codemirror_mode": {
    "name": "ipython",
    "version": 2
   },
   "file_extension": ".py",
   "mimetype": "text/x-python",
   "name": "python",
   "nbconvert_exporter": "python",
   "pygments_lexer": "ipython2",
   "version": "2.7.12"
  }
 },
 "nbformat": 4,
 "nbformat_minor": 0
}
