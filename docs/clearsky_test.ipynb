{
 "cells": [
  {
   "cell_type": "markdown",
   "metadata": {},
   "source": [
    "# Filtering test\n",
    "This notebook can be run to test the clearsky filtering implemented in `filtering.py`."
   ]
  },
  {
   "cell_type": "markdown",
   "metadata": {},
   "source": [
    "## Get irradiance data from NREL\n",
    "\n",
    "To download irradiance data from NREL's Solar Radiation Research Laboratory:\n",
    "1. Visit https://www.nrel.gov/midc/srrl_bms\n",
    "2. Choose the start and end dates to get ~ 1 month of data\n",
    "3. Check the irradiance parameter `Global 40-South CMP11`: this is the irradiance on a south-facing panel tilted 40 degrees\n",
    "4. Check the first output parameter, `Selected 1-Min Data (ASCII Text)`\n",
    "5. Download the data to `rdtools\\docs` by clicking `Submit`"
   ]
  },
  {
   "cell_type": "code",
   "execution_count": 1,
   "metadata": {
    "collapsed": false
   },
   "outputs": [
    {
     "name": "stdout",
     "output_type": "stream",
     "text": [
      "2015-08-23 05:23:00-07:00    1.82817\n",
      "2015-08-23 05:24:00-07:00    1.91263\n",
      "2015-08-23 05:25:00-07:00    2.19580\n",
      "2015-08-23 05:26:00-07:00    3.00556\n",
      "2015-08-23 05:27:00-07:00    3.74577\n",
      "Freq: T, Name: Global 40-South CMP11 [W/m^2], dtype: float64\n"
     ]
    }
   ],
   "source": [
    "data_loc = '20150823.csv'\n",
    "import pandas as pd\n",
    "data = pd.read_csv(data_loc)\n",
    "data['time'] = data.iloc[:,0] + ' ' + data.iloc[:,1]\n",
    "data = data.set_index(pd.to_datetime(data['time']))\n",
    "data.index = data.index.tz_localize('Etc/GMT+7')\n",
    "data = data[~data.index.duplicated(keep='first')]\n",
    "data = data.reindex(index=pd.date_range(start=data.index[0],end=data.index[-1],freq='1T')).fillna(0) # Since nighttime times might not be included\n",
    "irrad_long = data['Global 40-South CMP11 [W/m^2]']\n",
    "print(irrad_long.head())"
   ]
  },
  {
   "cell_type": "markdown",
   "metadata": {},
   "source": [
    "## Down-sample the data to some desired frequency\n",
    "The data from NREL is minutely; to test at slower frequencies, first down-sample the data. Here we will downsample to 30-minute, left-labelled bins. The left-labelling is important: when getting the clearsky irradiance values with `remove_cloudy_times`, the times will be shifted by half a period length (since we set `correct_bin_labelling=True` when calling the function). This way, the clearsky irradiance values returned correspond to the middle of the bin period."
   ]
  },
  {
   "cell_type": "code",
   "execution_count": 6,
   "metadata": {
    "collapsed": false
   },
   "outputs": [
    {
     "name": "stdout",
     "output_type": "stream",
     "text": [
      "2015-08-23 05:00:00-07:00      3.199307\n",
      "2015-08-23 05:30:00-07:00     20.811410\n",
      "2015-08-23 06:00:00-07:00     65.845247\n",
      "2015-08-23 06:30:00-07:00    142.603107\n",
      "2015-08-23 07:00:00-07:00    275.439200\n",
      "Freq: 30T, Name: Global 40-South CMP11 [W/m^2], dtype: float64\n"
     ]
    }
   ],
   "source": [
    "freq = 30 # minutes\n",
    "irrad = irrad_long.resample(str(freq)+'T',label='left').mean()\n",
    "data_filtered = data.resample(str(freq)+'T',label='left').mean()\n",
    "print(irrad.head())"
   ]
  },
  {
   "cell_type": "markdown",
   "metadata": {},
   "source": [
    "## Specify the properties of the PV system and perform the clearsky filtering\n",
    "This includes the coordinates and elevation of the system as well as its tilt and azimuth angles. Use these parameters to model the system in `PVLib`."
   ]
  },
  {
   "cell_type": "code",
   "execution_count": 3,
   "metadata": {
    "collapsed": true
   },
   "outputs": [],
   "source": [
    "# properties of the PV system at NREL's South Table Mountain site\n",
    "latlon = [39.742,-105.18]\n",
    "tilt = 40\n",
    "azimuth = 180\n",
    "elevation = 1828.8\n",
    "\n",
    "import pvlib\n",
    "\n",
    "# model the solar panel with PVLib\n",
    "system_noloc = pvlib.pvsystem.PVSystem(surface_tilt=tilt,surface_azimuth=azimuth)\n",
    "loc = pvlib.location.Location(latlon[0],latlon[1],altitude=elevation)\n",
    "system_loc = pvlib.pvsystem.LocalizedPVSystem(pvsystem=system_noloc,location=loc)"
   ]
  },
  {
   "cell_type": "markdown",
   "metadata": {},
   "source": [
    "Then, call `remove_cloudy_times`, which will filter out rows from the dataframe `data` when the series `irrad` is determined to be cloudy. Finally, based on which times are determined to be clear (stored in `is_clear`), filter out entire cloudy days from `irrad` with `remove_cloudy_days`. Days determined to be cloudy are those in which less than `thresh` portion of the points between `start_time` and `end_time` are clear.\n",
    "\n",
    "`remove_clear_times` will call a function `detect_clearsky_params`, which selects the input parameters to `detect_clearsky` based on the period of the data `w` (in minutes). Those parameters are:\n",
    "- `dur = max(15,w*3)`, the duration of the moving window in which `detect_clearsky` performs its calculations;\n",
    "- `mean_diff = max(75,w/2.0)`, the maximum allowable mean difference between the observed and clearsky irradiances during the moving window;\n",
    "- `max_diff = max(120,w/1.5)`, the maximum allowable maximum difference between the observed and clearsky irradiances during the moving window;\n",
    "- `lower_line_length = min(-25,-1.0*w/2.0)`, the lower limit for the difference in line length (when plotting irradiance vs time) between the observed and clearsky irradiances;\n",
    "- `upper_line_length = max(30,w/2.0)`, the upper limit for the difference in line length (when plotting irradiance vs time) between the observed and clearsky irradiances.\n",
    "\n",
    "There are other parameters that are not a function of the data period `w`:\n",
    "- `var_diff`, the maximum variance between the two time series;\n",
    "- `slope_dev`, the maximum allowable difference in slope between the two time series.\n",
    "Both these parameters are set to very high values, such that they won't cause any points to be considered cloudy.\n",
    "\n",
    "These parameters were arrived at via trial-and-error and haven't been tested over a range of data periods."
   ]
  },
  {
   "cell_type": "code",
   "execution_count": 10,
   "metadata": {
    "collapsed": false
   },
   "outputs": [
    {
     "ename": "TypeError",
     "evalue": "max() got an unexpected keyword argument 'axis'",
     "output_type": "error",
     "traceback": [
      "\u001b[0;31m---------------------------------------------------------------------------\u001b[0m",
      "\u001b[0;31mTypeError\u001b[0m                                 Traceback (most recent call last)",
      "\u001b[0;32m<ipython-input-10-12ae0ac44936>\u001b[0m in \u001b[0;36m<module>\u001b[0;34m()\u001b[0m\n\u001b[1;32m      5\u001b[0m \u001b[1;33m\u001b[0m\u001b[0m\n\u001b[1;32m      6\u001b[0m \u001b[1;31m# Remove the cloudy times with filtering.py\u001b[0m\u001b[1;33m\u001b[0m\u001b[1;33m\u001b[0m\u001b[0m\n\u001b[0;32m----> 7\u001b[0;31m \u001b[0mdf_filtered\u001b[0m\u001b[1;33m,\u001b[0m \u001b[0mis_clear\u001b[0m \u001b[1;33m=\u001b[0m \u001b[0mfiltering\u001b[0m\u001b[1;33m.\u001b[0m\u001b[0mremove_cloudy_times\u001b[0m\u001b[1;33m(\u001b[0m\u001b[0mdata_filtered\u001b[0m\u001b[1;33m,\u001b[0m\u001b[0mirrad\u001b[0m\u001b[1;33m,\u001b[0m\u001b[0msystem_loc\u001b[0m\u001b[1;33m,\u001b[0m\u001b[0mviz\u001b[0m\u001b[1;33m=\u001b[0m\u001b[0mTrue\u001b[0m\u001b[1;33m,\u001b[0m\u001b[0mcorrect_bin_labelling\u001b[0m\u001b[1;33m=\u001b[0m\u001b[0mTrue\u001b[0m\u001b[1;33m,\u001b[0m\u001b[0mreturn_when_clear\u001b[0m\u001b[1;33m=\u001b[0m\u001b[0mTrue\u001b[0m\u001b[1;33m)\u001b[0m\u001b[1;33m\u001b[0m\u001b[0m\n\u001b[0m\u001b[1;32m      8\u001b[0m \u001b[1;33m\u001b[0m\u001b[0m\n\u001b[1;32m      9\u001b[0m \u001b[1;31m# Based on these cloudy times, remove the cloudy days\u001b[0m\u001b[1;33m\u001b[0m\u001b[1;33m\u001b[0m\u001b[0m\n",
      "\u001b[0;32mC:\\Users\\druth\\Documents\\GitHub\\rdtools\\rdtools\\filtering.pyc\u001b[0m in \u001b[0;36mremove_cloudy_times\u001b[0;34m(df, irrad, system_loc, viz, correct_bin_labelling, return_when_clear)\u001b[0m\n\u001b[1;32m    128\u001b[0m \u001b[1;33m\u001b[0m\u001b[0m\n\u001b[1;32m    129\u001b[0m     \u001b[1;31m# Determine which times are clear\u001b[0m\u001b[1;33m\u001b[0m\u001b[1;33m\u001b[0m\u001b[0m\n\u001b[0;32m--> 130\u001b[0;31m     \u001b[0mis_clear\u001b[0m \u001b[1;33m=\u001b[0m \u001b[0mpvlib\u001b[0m\u001b[1;33m.\u001b[0m\u001b[0mclearsky\u001b[0m\u001b[1;33m.\u001b[0m\u001b[0mdetect_clearsky\u001b[0m\u001b[1;33m(\u001b[0m\u001b[0mirrad\u001b[0m\u001b[1;33m.\u001b[0m\u001b[0mvalues\u001b[0m\u001b[1;33m,\u001b[0m\u001b[0mclearsky_poa\u001b[0m\u001b[1;33m,\u001b[0m\u001b[0mirrad\u001b[0m\u001b[1;33m.\u001b[0m\u001b[0mindex\u001b[0m\u001b[1;33m,\u001b[0m\u001b[0mdur\u001b[0m\u001b[1;33m,\u001b[0m\u001b[0mmean_diff\u001b[0m\u001b[1;33m=\u001b[0m\u001b[0mmean_diff\u001b[0m\u001b[1;33m,\u001b[0m\u001b[0mmax_diff\u001b[0m\u001b[1;33m=\u001b[0m\u001b[0mmax_diff\u001b[0m\u001b[1;33m,\u001b[0m\u001b[0mlower_line_length\u001b[0m\u001b[1;33m=\u001b[0m\u001b[0mlower_line_length\u001b[0m\u001b[1;33m,\u001b[0m\u001b[0mupper_line_length\u001b[0m\u001b[1;33m=\u001b[0m\u001b[0mupper_line_length\u001b[0m\u001b[1;33m,\u001b[0m\u001b[0mvar_diff\u001b[0m\u001b[1;33m=\u001b[0m\u001b[1;36m5000\u001b[0m\u001b[1;33m,\u001b[0m\u001b[0mslope_dev\u001b[0m\u001b[1;33m=\u001b[0m\u001b[1;36m9999\u001b[0m\u001b[1;33m)\u001b[0m\u001b[1;33m\u001b[0m\u001b[0m\n\u001b[0m\u001b[1;32m    131\u001b[0m \u001b[1;33m\u001b[0m\u001b[0m\n\u001b[1;32m    132\u001b[0m     \u001b[1;31m# Remove rows corresponding to cloudy times\u001b[0m\u001b[1;33m\u001b[0m\u001b[1;33m\u001b[0m\u001b[0m\n",
      "\u001b[0;32mC:\\Users\\druth\\Anaconda2\\lib\\site-packages\\pvlib\\clearsky.pyc\u001b[0m in \u001b[0;36mdetect_clearsky\u001b[0;34m(measured, clearsky, times, window_length, mean_diff, max_diff, lower_line_length, upper_line_length, var_diff, slope_dev, max_iterations, return_components)\u001b[0m\n\u001b[1;32m    663\u001b[0m     \u001b[1;31m# calculate clear sky statistics\u001b[0m\u001b[1;33m\u001b[0m\u001b[1;33m\u001b[0m\u001b[0m\n\u001b[1;32m    664\u001b[0m     \u001b[0mclear_mean\u001b[0m \u001b[1;33m=\u001b[0m \u001b[0mnp\u001b[0m\u001b[1;33m.\u001b[0m\u001b[0mmean\u001b[0m\u001b[1;33m(\u001b[0m\u001b[0mclearsky\u001b[0m\u001b[1;33m[\u001b[0m\u001b[0mH\u001b[0m\u001b[1;33m]\u001b[0m\u001b[1;33m,\u001b[0m \u001b[0maxis\u001b[0m\u001b[1;33m=\u001b[0m\u001b[1;36m0\u001b[0m\u001b[1;33m)\u001b[0m\u001b[1;33m\u001b[0m\u001b[0m\n\u001b[0;32m--> 665\u001b[0;31m     \u001b[0mclear_max\u001b[0m \u001b[1;33m=\u001b[0m \u001b[0mnp\u001b[0m\u001b[1;33m.\u001b[0m\u001b[0mmax\u001b[0m\u001b[1;33m(\u001b[0m\u001b[0mclearsky\u001b[0m\u001b[1;33m[\u001b[0m\u001b[0mH\u001b[0m\u001b[1;33m]\u001b[0m\u001b[1;33m,\u001b[0m \u001b[0maxis\u001b[0m\u001b[1;33m=\u001b[0m\u001b[1;36m0\u001b[0m\u001b[1;33m)\u001b[0m\u001b[1;33m\u001b[0m\u001b[0m\n\u001b[0m\u001b[1;32m    666\u001b[0m     \u001b[0mclear_slope\u001b[0m \u001b[1;33m=\u001b[0m \u001b[0mnp\u001b[0m\u001b[1;33m.\u001b[0m\u001b[0mdiff\u001b[0m\u001b[1;33m(\u001b[0m\u001b[0mclearsky\u001b[0m\u001b[1;33m[\u001b[0m\u001b[0mH\u001b[0m\u001b[1;33m]\u001b[0m\u001b[1;33m,\u001b[0m \u001b[0mn\u001b[0m\u001b[1;33m=\u001b[0m\u001b[1;36m1\u001b[0m\u001b[1;33m,\u001b[0m \u001b[0maxis\u001b[0m\u001b[1;33m=\u001b[0m\u001b[1;36m0\u001b[0m\u001b[1;33m)\u001b[0m\u001b[1;33m\u001b[0m\u001b[0m\n\u001b[1;32m    667\u001b[0m     \u001b[0mclear_slope_max\u001b[0m \u001b[1;33m=\u001b[0m \u001b[0mnp\u001b[0m\u001b[1;33m.\u001b[0m\u001b[0mmax\u001b[0m\u001b[1;33m(\u001b[0m\u001b[0mnp\u001b[0m\u001b[1;33m.\u001b[0m\u001b[0mabs\u001b[0m\u001b[1;33m(\u001b[0m\u001b[0mclear_slope\u001b[0m\u001b[1;33m)\u001b[0m\u001b[1;33m,\u001b[0m \u001b[0maxis\u001b[0m\u001b[1;33m=\u001b[0m\u001b[1;36m0\u001b[0m\u001b[1;33m)\u001b[0m\u001b[1;33m\u001b[0m\u001b[0m\n",
      "\u001b[0;32mC:\\Users\\druth\\Anaconda2\\lib\\site-packages\\numpy\\core\\fromnumeric.pyc\u001b[0m in \u001b[0;36mamax\u001b[0;34m(a, axis, out, keepdims)\u001b[0m\n\u001b[1;32m   2247\u001b[0m             \u001b[1;32mpass\u001b[0m\u001b[1;33m\u001b[0m\u001b[0m\n\u001b[1;32m   2248\u001b[0m         \u001b[1;32melse\u001b[0m\u001b[1;33m:\u001b[0m\u001b[1;33m\u001b[0m\u001b[0m\n\u001b[0;32m-> 2249\u001b[0;31m             \u001b[1;32mreturn\u001b[0m \u001b[0mamax\u001b[0m\u001b[1;33m(\u001b[0m\u001b[0maxis\u001b[0m\u001b[1;33m=\u001b[0m\u001b[0maxis\u001b[0m\u001b[1;33m,\u001b[0m \u001b[0mout\u001b[0m\u001b[1;33m=\u001b[0m\u001b[0mout\u001b[0m\u001b[1;33m,\u001b[0m \u001b[1;33m**\u001b[0m\u001b[0mkwargs\u001b[0m\u001b[1;33m)\u001b[0m\u001b[1;33m\u001b[0m\u001b[0m\n\u001b[0m\u001b[1;32m   2250\u001b[0m \u001b[1;33m\u001b[0m\u001b[0m\n\u001b[1;32m   2251\u001b[0m     return _methods._amax(a, axis=axis,\n",
      "\u001b[0;31mTypeError\u001b[0m: max() got an unexpected keyword argument 'axis'"
     ]
    }
   ],
   "source": [
    "import os, sys\n",
    "lib_path = os.path.abspath(os.path.join('..', 'rdtools'))\n",
    "sys.path.append(lib_path)\n",
    "import filtering\n",
    "\n",
    "# Remove the cloudy times with filtering.py\n",
    "df_filtered, is_clear = filtering.remove_cloudy_times(data_filtered,irrad,system_loc,viz=True,correct_bin_labelling=True,return_when_clear=True)    \n",
    "\n",
    "# Based on these cloudy times, remove the cloudy days\n",
    "just_clear_days = filtering.remove_cloudy_days(irrad,is_clear,start_time='8:00',end_time='16:00',thresh=0.8)"
   ]
  },
  {
   "cell_type": "markdown",
   "metadata": {},
   "source": [
    "Plot the original irradiance and irradiance from days selected as clearsky days with `remove_cloudy_days`."
   ]
  },
  {
   "cell_type": "code",
   "execution_count": null,
   "metadata": {
    "collapsed": false
   },
   "outputs": [],
   "source": [
    "import matplotlib.pyplot as plt\n",
    "\n",
    "fig = plt.figure(figsize=(15,7))\n",
    "ax=fig.add_subplot(111)\n",
    "ax.plot(irrad,label='All irradiance')\n",
    "ax.plot(just_clear_days,label='Just clear days')\n",
    "ax.legend()\n",
    "plt.show()"
   ]
  },
  {
   "cell_type": "markdown",
   "metadata": {
    "collapsed": true
   },
   "source": []
  },
  {
   "cell_type": "code",
   "execution_count": 11,
   "metadata": {
    "collapsed": false,
    "scrolled": true
   },
   "outputs": [
    {
     "ename": "IndexingError",
     "evalue": "Unalignable boolean Series provided as indexer (index of the boolean Series and of the indexed object do not match",
     "output_type": "error",
     "traceback": [
      "\u001b[0;31m---------------------------------------------------------------------------\u001b[0m",
      "\u001b[0;31mIndexingError\u001b[0m                             Traceback (most recent call last)",
      "\u001b[0;32m<ipython-input-11-4fb894287c4f>\u001b[0m in \u001b[0;36m<module>\u001b[0;34m()\u001b[0m\n\u001b[0;32m----> 1\u001b[0;31m \u001b[0mfiltered\u001b[0m \u001b[1;33m=\u001b[0m \u001b[0mfiltering\u001b[0m\u001b[1;33m.\u001b[0m\u001b[0mremove_cloudy_days_from_curve\u001b[0m\u001b[1;33m(\u001b[0m\u001b[0mdata\u001b[0m\u001b[1;33m,\u001b[0m\u001b[0mirrad\u001b[0m\u001b[1;33m,\u001b[0m\u001b[0mquant\u001b[0m\u001b[1;33m=\u001b[0m\u001b[1;36m0.90\u001b[0m\u001b[1;33m,\u001b[0m\u001b[0mviz\u001b[0m\u001b[1;33m=\u001b[0m\u001b[0mTrue\u001b[0m\u001b[1;33m,\u001b[0m\u001b[0mreturn_when_clear\u001b[0m\u001b[1;33m=\u001b[0m\u001b[0mFalse\u001b[0m\u001b[1;33m)\u001b[0m\u001b[1;33m\u001b[0m\u001b[0m\n\u001b[0m",
      "\u001b[0;32mC:\\Users\\druth\\Documents\\GitHub\\rdtools\\rdtools\\filtering.pyc\u001b[0m in \u001b[0;36mremove_cloudy_days_from_curve\u001b[0;34m(df, energy, quant, viz, return_when_clear)\u001b[0m\n\u001b[1;32m    254\u001b[0m \u001b[1;33m\u001b[0m\u001b[0m\n\u001b[1;32m    255\u001b[0m     \u001b[1;31m# go from clear DAYS to clear TIMES\u001b[0m\u001b[1;33m\u001b[0m\u001b[1;33m\u001b[0m\u001b[0m\n\u001b[0;32m--> 256\u001b[0;31m     \u001b[0mclear_inst\u001b[0m \u001b[1;33m=\u001b[0m \u001b[0mclear_days\u001b[0m\u001b[1;33m.\u001b[0m\u001b[0mreindex\u001b[0m\u001b[1;33m(\u001b[0m\u001b[0mindex\u001b[0m\u001b[1;33m=\u001b[0m\u001b[0menergy\u001b[0m\u001b[1;33m.\u001b[0m\u001b[0mindex\u001b[0m\u001b[1;33m,\u001b[0m\u001b[0mmethod\u001b[0m\u001b[1;33m=\u001b[0m\u001b[1;34m'ffill'\u001b[0m\u001b[1;33m)\u001b[0m\u001b[1;33m\u001b[0m\u001b[0m\n\u001b[0m\u001b[1;32m    257\u001b[0m \u001b[1;33m\u001b[0m\u001b[0m\n\u001b[1;32m    258\u001b[0m     \u001b[0mdf_filtered\u001b[0m \u001b[1;33m=\u001b[0m \u001b[0mdf\u001b[0m\u001b[1;33m.\u001b[0m\u001b[0mcopy\u001b[0m\u001b[1;33m(\u001b[0m\u001b[1;33m)\u001b[0m\u001b[1;33m\u001b[0m\u001b[0m\n",
      "\u001b[0;32mC:\\Users\\druth\\Anaconda2\\lib\\site-packages\\pandas\\core\\frame.pyc\u001b[0m in \u001b[0;36m__getitem__\u001b[0;34m(self, key)\u001b[0m\n\u001b[1;32m   2054\u001b[0m         \u001b[1;32mif\u001b[0m \u001b[0misinstance\u001b[0m\u001b[1;33m(\u001b[0m\u001b[0mkey\u001b[0m\u001b[1;33m,\u001b[0m \u001b[1;33m(\u001b[0m\u001b[0mSeries\u001b[0m\u001b[1;33m,\u001b[0m \u001b[0mnp\u001b[0m\u001b[1;33m.\u001b[0m\u001b[0mndarray\u001b[0m\u001b[1;33m,\u001b[0m \u001b[0mIndex\u001b[0m\u001b[1;33m,\u001b[0m \u001b[0mlist\u001b[0m\u001b[1;33m)\u001b[0m\u001b[1;33m)\u001b[0m\u001b[1;33m:\u001b[0m\u001b[1;33m\u001b[0m\u001b[0m\n\u001b[1;32m   2055\u001b[0m             \u001b[1;31m# either boolean or fancy integer index\u001b[0m\u001b[1;33m\u001b[0m\u001b[1;33m\u001b[0m\u001b[0m\n\u001b[0;32m-> 2056\u001b[0;31m             \u001b[1;32mreturn\u001b[0m \u001b[0mself\u001b[0m\u001b[1;33m.\u001b[0m\u001b[0m_getitem_array\u001b[0m\u001b[1;33m(\u001b[0m\u001b[0mkey\u001b[0m\u001b[1;33m)\u001b[0m\u001b[1;33m\u001b[0m\u001b[0m\n\u001b[0m\u001b[1;32m   2057\u001b[0m         \u001b[1;32melif\u001b[0m \u001b[0misinstance\u001b[0m\u001b[1;33m(\u001b[0m\u001b[0mkey\u001b[0m\u001b[1;33m,\u001b[0m \u001b[0mDataFrame\u001b[0m\u001b[1;33m)\u001b[0m\u001b[1;33m:\u001b[0m\u001b[1;33m\u001b[0m\u001b[0m\n\u001b[1;32m   2058\u001b[0m             \u001b[1;32mreturn\u001b[0m \u001b[0mself\u001b[0m\u001b[1;33m.\u001b[0m\u001b[0m_getitem_frame\u001b[0m\u001b[1;33m(\u001b[0m\u001b[0mkey\u001b[0m\u001b[1;33m)\u001b[0m\u001b[1;33m\u001b[0m\u001b[0m\n",
      "\u001b[0;32mC:\\Users\\druth\\Anaconda2\\lib\\site-packages\\pandas\\core\\frame.pyc\u001b[0m in \u001b[0;36m_getitem_array\u001b[0;34m(self, key)\u001b[0m\n\u001b[1;32m   2094\u001b[0m             \u001b[1;31m# check_bool_indexer will throw exception if Series key cannot\u001b[0m\u001b[1;33m\u001b[0m\u001b[1;33m\u001b[0m\u001b[0m\n\u001b[1;32m   2095\u001b[0m             \u001b[1;31m# be reindexed to match DataFrame rows\u001b[0m\u001b[1;33m\u001b[0m\u001b[1;33m\u001b[0m\u001b[0m\n\u001b[0;32m-> 2096\u001b[0;31m             \u001b[0mkey\u001b[0m \u001b[1;33m=\u001b[0m \u001b[0mcheck_bool_indexer\u001b[0m\u001b[1;33m(\u001b[0m\u001b[0mself\u001b[0m\u001b[1;33m.\u001b[0m\u001b[0mindex\u001b[0m\u001b[1;33m,\u001b[0m \u001b[0mkey\u001b[0m\u001b[1;33m)\u001b[0m\u001b[1;33m\u001b[0m\u001b[0m\n\u001b[0m\u001b[1;32m   2097\u001b[0m             \u001b[0mindexer\u001b[0m \u001b[1;33m=\u001b[0m \u001b[0mkey\u001b[0m\u001b[1;33m.\u001b[0m\u001b[0mnonzero\u001b[0m\u001b[1;33m(\u001b[0m\u001b[1;33m)\u001b[0m\u001b[1;33m[\u001b[0m\u001b[1;36m0\u001b[0m\u001b[1;33m]\u001b[0m\u001b[1;33m\u001b[0m\u001b[0m\n\u001b[1;32m   2098\u001b[0m             \u001b[1;32mreturn\u001b[0m \u001b[0mself\u001b[0m\u001b[1;33m.\u001b[0m\u001b[0mtake\u001b[0m\u001b[1;33m(\u001b[0m\u001b[0mindexer\u001b[0m\u001b[1;33m,\u001b[0m \u001b[0maxis\u001b[0m\u001b[1;33m=\u001b[0m\u001b[1;36m0\u001b[0m\u001b[1;33m,\u001b[0m \u001b[0mconvert\u001b[0m\u001b[1;33m=\u001b[0m\u001b[0mFalse\u001b[0m\u001b[1;33m)\u001b[0m\u001b[1;33m\u001b[0m\u001b[0m\n",
      "\u001b[0;32mC:\\Users\\druth\\Anaconda2\\lib\\site-packages\\pandas\\core\\indexing.pyc\u001b[0m in \u001b[0;36mcheck_bool_indexer\u001b[0;34m(ax, key)\u001b[0m\n\u001b[1;32m   1937\u001b[0m         \u001b[0mmask\u001b[0m \u001b[1;33m=\u001b[0m \u001b[0misnull\u001b[0m\u001b[1;33m(\u001b[0m\u001b[0mresult\u001b[0m\u001b[1;33m.\u001b[0m\u001b[0m_values\u001b[0m\u001b[1;33m)\u001b[0m\u001b[1;33m\u001b[0m\u001b[0m\n\u001b[1;32m   1938\u001b[0m         \u001b[1;32mif\u001b[0m \u001b[0mmask\u001b[0m\u001b[1;33m.\u001b[0m\u001b[0many\u001b[0m\u001b[1;33m(\u001b[0m\u001b[1;33m)\u001b[0m\u001b[1;33m:\u001b[0m\u001b[1;33m\u001b[0m\u001b[0m\n\u001b[0;32m-> 1939\u001b[0;31m             raise IndexingError('Unalignable boolean Series provided as '\n\u001b[0m\u001b[1;32m   1940\u001b[0m                                 \u001b[1;34m'indexer (index of the boolean Series and of '\u001b[0m\u001b[1;33m\u001b[0m\u001b[0m\n\u001b[1;32m   1941\u001b[0m                                 'the indexed object do not match')\n",
      "\u001b[0;31mIndexingError\u001b[0m: Unalignable boolean Series provided as indexer (index of the boolean Series and of the indexed object do not match"
     ]
    }
   ],
   "source": []
  },
  {
   "cell_type": "code",
   "execution_count": 8,
   "metadata": {
    "collapsed": false
   },
   "outputs": [
    {
     "name": "stdout",
     "output_type": "stream",
     "text": [
      "2015-08-23 05:00:00-07:00       3.199307\n",
      "2015-08-23 05:30:00-07:00      20.811410\n",
      "2015-08-23 06:00:00-07:00      65.845247\n",
      "2015-08-23 06:30:00-07:00     142.603107\n",
      "2015-08-23 07:00:00-07:00     275.439200\n",
      "2015-08-23 07:30:00-07:00     405.046633\n",
      "2015-08-23 08:00:00-07:00     529.978133\n",
      "2015-08-23 08:30:00-07:00     653.588967\n",
      "2015-08-23 09:00:00-07:00     778.635067\n",
      "2015-08-23 09:30:00-07:00     869.174267\n",
      "2015-08-23 10:00:00-07:00     937.785767\n",
      "2015-08-23 10:30:00-07:00     992.795200\n",
      "2015-08-23 11:00:00-07:00    1034.707800\n",
      "2015-08-23 11:30:00-07:00    1058.692100\n",
      "2015-08-23 12:00:00-07:00    1006.234600\n",
      "2015-08-23 12:30:00-07:00     978.057933\n",
      "2015-08-23 13:00:00-07:00     976.218567\n",
      "2015-08-23 13:30:00-07:00     930.965767\n",
      "2015-08-23 14:00:00-07:00     840.508433\n",
      "2015-08-23 14:30:00-07:00     685.686300\n",
      "2015-08-23 15:00:00-07:00     509.338467\n",
      "2015-08-23 15:30:00-07:00     411.816933\n",
      "2015-08-23 16:00:00-07:00     447.184100\n",
      "2015-08-23 16:30:00-07:00     315.770933\n",
      "2015-08-23 17:00:00-07:00     176.926333\n",
      "2015-08-23 17:30:00-07:00      80.354033\n",
      "2015-08-23 18:00:00-07:00      23.595101\n",
      "2015-08-23 18:30:00-07:00       1.728135\n",
      "2015-08-23 19:00:00-07:00       0.000000\n",
      "2015-08-23 19:30:00-07:00       0.000000\n",
      "                                ...     \n",
      "2015-09-23 03:00:00-07:00       0.000000\n",
      "2015-09-23 03:30:00-07:00       0.000000\n",
      "2015-09-23 04:00:00-07:00       0.000000\n",
      "2015-09-23 04:30:00-07:00       0.000000\n",
      "2015-09-23 05:00:00-07:00       0.000000\n",
      "2015-09-23 05:30:00-07:00       0.670603\n",
      "2015-09-23 06:00:00-07:00      23.197631\n",
      "2015-09-23 06:30:00-07:00     121.190840\n",
      "2015-09-23 07:00:00-07:00     336.417167\n",
      "2015-09-23 07:30:00-07:00     351.417233\n",
      "2015-09-23 08:00:00-07:00     434.615100\n",
      "2015-09-23 08:30:00-07:00     715.204867\n",
      "2015-09-23 09:00:00-07:00     803.468067\n",
      "2015-09-23 09:30:00-07:00     897.109433\n",
      "2015-09-23 10:00:00-07:00     973.534367\n",
      "2015-09-23 10:30:00-07:00    1029.995000\n",
      "2015-09-23 11:00:00-07:00    1070.972667\n",
      "2015-09-23 11:30:00-07:00    1087.509000\n",
      "2015-09-23 12:00:00-07:00    1084.437200\n",
      "2015-09-23 12:30:00-07:00    1063.524000\n",
      "2015-09-23 13:00:00-07:00    1016.328700\n",
      "2015-09-23 13:30:00-07:00     906.736300\n",
      "2015-09-23 14:00:00-07:00     854.277133\n",
      "2015-09-23 14:30:00-07:00     729.080867\n",
      "2015-09-23 15:00:00-07:00     562.885767\n",
      "2015-09-23 15:30:00-07:00     518.042233\n",
      "2015-09-23 16:00:00-07:00     363.939600\n",
      "2015-09-23 16:30:00-07:00     205.324747\n",
      "2015-09-23 17:00:00-07:00     103.985037\n",
      "2015-09-23 17:30:00-07:00      15.816796\n",
      "Freq: 30T, Name: Global 40-South CMP11 [W/m^2], Length: 1514, dtype: float64\n"
     ]
    }
   ],
   "source": []
  },
  {
   "cell_type": "code",
   "execution_count": null,
   "metadata": {
    "collapsed": true
   },
   "outputs": [],
   "source": []
  }
 ],
 "metadata": {
  "anaconda-cloud": {},
  "kernelspec": {
   "display_name": "Python [default]",
   "language": "python",
   "name": "python2"
  },
  "language_info": {
   "codemirror_mode": {
    "name": "ipython",
    "version": 2
   },
   "file_extension": ".py",
   "mimetype": "text/x-python",
   "name": "python",
   "nbconvert_exporter": "python",
   "pygments_lexer": "ipython2",
   "version": "2.7.13"
  }
 },
 "nbformat": 4,
 "nbformat_minor": 1
}
