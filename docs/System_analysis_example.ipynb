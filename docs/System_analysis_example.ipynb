{
 "cells": [
  {
   "cell_type": "markdown",
   "metadata": {},
   "source": [
    "# system_analysis object-oriented API\n",
    "\n",
    "\n",
    "This juypter notebook is intended to the RdTools analysis workflow as implimented with the rdtools.system_analysis object-oriented API. For a consistent experience, we recommend installing the packages and versions documented in `docs/notebook_requirements.txt`. This can be achieved in your environment by running `pip install -r docs/notebook_requirements.txt` from the base directory. (RdTools must also be separately installed.)\n",
    "\n",
    "The calculations consist of two phases\n",
    " 1. Import and preliminary calculations: In this step data is important and augmented to enable analysis with RdTools. **No RdTools functions are used in this step. It will vary depending on the particulars of your dataset. Be sure to understand the inputs RdTools requires and make appropriate adjustments.**  \n",
    " 2. Analysis with RdTools: This notebook illustrates the use of the system_analysis API to perform sensor and clearsky degradation rate calculations along with stocasithc rate and recovery (SRR) soiling calculations.\n",
    "\n",
    "This notebook works with public data from the the Desert Knowledge Australia Solar Centre. Please download the site data from Site 12, and unzip the csv file in the folder:\n",
    "./rdtools/docs/\n",
    "\n",
    "Note this example was run with data downloaded on Sept. 28, 2018. An older version of the data gave different sensor-based results. If you have an older version of the data and are getting different results, please try redownloading the data.\n",
    "\n",
    "http://dkasolarcentre.com.au/historical-data/download"
   ]
  },
  {
   "cell_type": "code",
   "execution_count": 1,
   "metadata": {},
   "outputs": [],
   "source": [
    "from datetime import timedelta\n",
    "import pandas as pd\n",
    "import matplotlib.pyplot as plt\n",
    "import numpy as np\n",
    "import pvlib\n",
    "import rdtools\n",
    "%matplotlib inline"
   ]
  },
  {
   "cell_type": "code",
   "execution_count": 2,
   "metadata": {},
   "outputs": [],
   "source": [
    "#Update the style of plots\n",
    "import matplotlib\n",
    "matplotlib.rcParams.update({'font.size': 12,\n",
    "                           'figure.figsize': [4.5, 3],\n",
    "                           'lines.markeredgewidth': 0,\n",
    "                           'lines.markersize': 2\n",
    "                           })"
   ]
  },
  {
   "cell_type": "markdown",
   "metadata": {},
   "source": [
    "# 1: Import and preliminary calculations\n",
    "\n",
    "\n",
    "This section prepares the data necesary for an `rdtools` calculation.\n",
    "\n",
    "A common challenge is handling datasets with and without daylight savings time. Make sure to specify a `pytz` timezone that does or does not include daylight savings time as appropriate for your dataset.\n",
    "\n",
    "**The steps of this section may change depending on your data source or the system being considered. Note that nothing in this first section utlizes the `rdtools` library.** Transposition of irradiance and modeling of cell temperature are generally outside the scope of `rdtools`. A variety of tools for these calculations are avaialble in [`pvlib`](https://github.com/pvlib/pvlib-python)."
   ]
  },
  {
   "cell_type": "code",
   "execution_count": 3,
   "metadata": {},
   "outputs": [],
   "source": [
    "file_name = '84-Site_12-BP-Solar.csv'\n",
    "\n",
    "df = pd.read_csv(file_name)\n",
    "try:\n",
    "    df.columns = [col.decode('utf-8') for col in df.columns]\n",
    "except AttributeError:\n",
    "    pass  # Python 3 strings are already unicode literals\n",
    "df = df.rename(columns = {\n",
    "    u'12 BP Solar - Active Power (kW)':'power',\n",
    "    u'12 BP Solar - Wind Speed (m/s)': 'wind',\n",
    "    u'12 BP Solar - Weather Temperature Celsius (\\xb0C)': 'Tamb',\n",
    "    u'12 BP Solar - Global Horizontal Radiation (W/m\\xb2)': 'ghi',\n",
    "    u'12 BP Solar - Diffuse Horizontal Radiation (W/m\\xb2)': 'dhi'\n",
    "})\n",
    "\n",
    "# Specify the Metadata\n",
    "meta = {\"latitude\": -23.762028,\n",
    "        \"longitude\": 133.874886,\n",
    "        \"timezone\": 'Australia/North',\n",
    "        \"tempco\": -0.005,\n",
    "        \"azimuth\": 0,\n",
    "        \"tilt\": 20,\n",
    "        \"pdc\": 5100.0,\n",
    "        \"temp_model\": 'open_rack_cell_polymerback'}\n",
    "\n",
    "df.index = pd.to_datetime(df.Timestamp)\n",
    "# TZ is required for irradiance transposition\n",
    "df.index = df.index.tz_localize(meta['timezone'], ambiguous = 'infer') \n",
    "\n",
    "# Explicitly trim the dates so that runs of this example notebook \n",
    "# are comparable when the sourec dataset has been downloaded at different times\n",
    "df = df['2008-11-11':'2017-05-15']\n",
    "\n",
    "# Chage power from kilowatts to watts\n",
    "df['power'] = df.power * 1000.0\n",
    "\n",
    "# There is some missing data, but we can infer the frequency from the first several data points\n",
    "freq = pd.infer_freq(df.index[:10])\n",
    "\n",
    "# Calculate POA irradiance from DHI, GHI inputs\n",
    "loc = pvlib.location.Location(meta['latitude'], meta['longitude'], tz = meta['timezone'])\n",
    "sun = loc.get_solarposition(df.index)\n",
    "df['dni'] = (df.ghi - df.dhi)/np.cos(np.deg2rad(sun.apparent_zenith))\n",
    "poa = pvlib.irradiance.get_total_irradiance(meta['tilt'], meta['azimuth'], sun['apparent_zenith'],\n",
    "                                                             sun['azimuth'], df['dni'], df['ghi'],\n",
    "                                                             df['dhi'], albedo=0.25, model='isotropic')\n",
    "df['poa'] = poa['poa_global']"
   ]
  },
  {
   "cell_type": "markdown",
   "metadata": {},
   "source": [
    "# Use of the object oriented system analysis API"
   ]
  },
  {
   "cell_type": "markdown",
   "metadata": {},
   "source": [
    "The first step is to create a `system_analysis` instance containing data to be analyzed and information about the system. Here we illustrate a basic applicaiton, but the API is highly customizable and we encourage you to read the docstrings and check the source for full details."
   ]
  },
  {
   "cell_type": "code",
   "execution_count": 4,
   "metadata": {},
   "outputs": [],
   "source": [
    "sa = rdtools.system_analysis(df['power'], df['poa'], df['Tamb'], meta['tempco'],\n",
    "                    interp_freq=freq, max_timedelta=pd.to_timedelta('15 minutes'), temperature_input='ambient',\n",
    "                    pvlib_location=loc, windspeed=df['wind'], pv_tilt=meta['tilt'], pv_azimuth=meta['azimuth'],\n",
    "                    temperature_model=meta['temp_model'], albedo=0.25)"
   ]
  },
  {
   "cell_type": "markdown",
   "metadata": {},
   "source": [
    "Once the `system_analysis` object is ready, the `sensor_analysis()` and `clearsky_analysis()` methods can be used to deploy the full chain of analysis steps. Results are stored in nested dict, `system_analysis.results`.\n",
    "\n",
    "Filters utilized in the analysis can be adjusted by changing the dict `system_analysis.filter_params`."
   ]
  },
  {
   "cell_type": "code",
   "execution_count": 5,
   "metadata": {},
   "outputs": [],
   "source": [
    "sa.sensor_analysis(analyses=['yoy_degradation', 'srr_soiling' ])"
   ]
  },
  {
   "cell_type": "code",
   "execution_count": 6,
   "metadata": {},
   "outputs": [],
   "source": [
    "yoy_results = sa.results['sensor']['yoy_degradation']\n",
    "srr_results = sa.results['sensor']['srr_soiling']"
   ]
  },
  {
   "cell_type": "code",
   "execution_count": 7,
   "metadata": {},
   "outputs": [
    {
     "name": "stdout",
     "output_type": "stream",
     "text": [
      "-0.4325636323544546\n",
      "[-0.54131195 -0.33294339]\n"
     ]
    }
   ],
   "source": [
    "print(yoy_results['p50_rd'])\n",
    "print(yoy_results['rd_confidence_interval'])"
   ]
  },
  {
   "cell_type": "code",
   "execution_count": 8,
   "metadata": {},
   "outputs": [
    {
     "name": "stdout",
     "output_type": "stream",
     "text": [
      "0.9759539128115113\n",
      "[0.97302738 0.98034162]\n"
     ]
    }
   ],
   "source": [
    "print(srr_results['p50_sratio'])\n",
    "print(srr_results['sratio_confidence_interval'])"
   ]
  },
  {
   "cell_type": "code",
   "execution_count": 9,
   "metadata": {},
   "outputs": [
    {
     "name": "stderr",
     "output_type": "stream",
     "text": [
      "/anaconda2/envs/rdtools_model_chains/lib/python3.6/site-packages/pandas/core/indexes/base.py:2820: FutureWarning: Converting timezone-aware DatetimeArray to timezone-naive ndarray with 'datetime64[ns]' dtype. In the future, this will return an ndarray with 'object' dtype where each element is a 'pandas.Timestamp' with the correct 'tz'.\n",
      "\tTo accept the future behavior, pass 'dtype=object'.\n",
      "\tTo keep the old behavior, pass 'dtype=\"datetime64[ns]\"'.\n",
      "  target = np.asarray(target)\n"
     ]
    }
   ],
   "source": [
    "sa.clearsky_analysis()"
   ]
  },
  {
   "cell_type": "code",
   "execution_count": 10,
   "metadata": {},
   "outputs": [
    {
     "name": "stdout",
     "output_type": "stream",
     "text": [
      "-0.10393103604720566\n",
      "[-0.28686022  0.07877641]\n"
     ]
    }
   ],
   "source": [
    "cs_yoy_results = sa.results['clearsky']['yoy_degradation']\n",
    "print(cs_yoy_results['p50_rd'])\n",
    "print(cs_yoy_results['rd_confidence_interval'])"
   ]
  },
  {
   "cell_type": "code",
   "execution_count": null,
   "metadata": {},
   "outputs": [],
   "source": []
  }
 ],
 "metadata": {
  "anaconda-cloud": {},
  "kernelspec": {
   "display_name": "Python [conda env:rdtools_model_chains]",
   "language": "python",
   "name": "conda-env-rdtools_model_chains-py"
  },
  "language_info": {
   "codemirror_mode": {
    "name": "ipython",
    "version": 3
   },
   "file_extension": ".py",
   "mimetype": "text/x-python",
   "name": "python",
   "nbconvert_exporter": "python",
   "pygments_lexer": "ipython3",
   "version": "3.6.8"
  }
 },
 "nbformat": 4,
 "nbformat_minor": 1
}
