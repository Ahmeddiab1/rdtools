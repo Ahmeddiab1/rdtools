{
 "cells": [
  {
   "cell_type": "markdown",
   "metadata": {},
   "source": [
    "# Degradation and soiling example with clearsky workflow\n",
    "\n",
    "\n",
    "This juypter notebook is intended to the RdTools analysis workflow.  In addition, the notebook demonstrates the effects of changes in the workflow. For a consistent experience, we recommend installing the packages and versions documented in `docs/notebook_requirements.txt`. This can be achieved in your environment by running `pip install -r docs/notebook_requirements.txt` from the base directory. (RdTools must also be separately installed.)\n",
    "\n",
    "The calculations consist of several steps illustrated here:\n",
    "<ol start=\"0\">\n",
    "  <li><b>Import and preliminary calculations</b></li>\n",
    "  <li><b>Normalize</b> data using a performance metric</li>\n",
    "  <li><b>Filter</b> data that creates bias</li>\n",
    "  <li><b>Aggregate data</b></li>\n",
    "  <li> <b>Analyze</b> aggregated data to estimate the degradation rate</li>\n",
    "  <li> <b>Analyze</b> aggregated data to estimate the soiling loss</li>\n",
    "</ol>\n",
    "\n",
    "After demonstrating these steps using sensor data, a modified version of the workflow is illustrated using modled clear sky irradiance and temperature. The results from the two methods are compared\n",
    "\n",
    "This notebook works with public data from the the Desert Knowledge Australia Solar Centre. Please download the site data from Site 12, and unzip the csv file in the folder:\n",
    "./rdtools/docs/\n",
    "\n",
    "Note this example was run with data downloaded on Sept. 28, 2018. An older version of the data gave different sensor-based results. If you have an older version of the data and are getting different results, please try redownloading the data.\n",
    "\n",
    "http://dkasolarcentre.com.au/historical-data/download"
   ]
  },
  {
   "cell_type": "code",
   "execution_count": 4,
   "metadata": {},
   "outputs": [],
   "source": [
    "from datetime import timedelta\n",
    "import pandas as pd\n",
    "import matplotlib.pyplot as plt\n",
    "import numpy as np\n",
    "import pvlib\n",
    "import rdtools\n",
    "%matplotlib inline"
   ]
  },
  {
   "cell_type": "code",
   "execution_count": 5,
   "metadata": {},
   "outputs": [],
   "source": [
    "#Update the style of plots\n",
    "import matplotlib\n",
    "matplotlib.rcParams.update({'font.size': 12,\n",
    "                           'figure.figsize': [4.5, 3],\n",
    "                           'lines.markeredgewidth': 0,\n",
    "                           'lines.markersize': 2\n",
    "                           })"
   ]
  },
  {
   "cell_type": "markdown",
   "metadata": {},
   "source": [
    "# 0: Import and preliminary calculations\n",
    "\n",
    "\n",
    "This section prepares the data necesary for an `rdtools` calculation. The first step of the `rdtools` workflow is normaliztion, which requires a time series of energy yield, a time series of cell temperature, and a time series of irradiance, along with some metadata (see Step 1: Normalize)\n",
    "\n",
    "The following section loads the data, adjusts units where needed, and renames the critical columns. The irradiance sensor data source is transposed to plane-of-array, and the temperature sensor data source is converted into estimated cell temperature.\n",
    "\n",
    "A common challenge is handling datasets with and without daylight savings time. Make sure to specify a `pytz` timezone that does or does not include daylight savings time as appropriate for your dataset.\n",
    "\n",
    "<b>The steps of this section may change depending on your data source or the system being considered. Note that nothing in this first section utlizes the `rdtools` library.</b> Transposition of irradiance and modeling of cell temperature are generally outside the scope of `rdtools`. A variety of tools for these calculations are avaialble in [`pvlib`](https://github.com/pvlib/pvlib-python)."
   ]
  },
  {
   "cell_type": "code",
   "execution_count": 6,
   "metadata": {},
   "outputs": [],
   "source": [
    "file_name = '84-Site_12-BP-Solar.csv'\n",
    "\n",
    "df = pd.read_csv(file_name)\n",
    "try:\n",
    "    df.columns = [col.decode('utf-8') for col in df.columns]\n",
    "except AttributeError:\n",
    "    pass  # Python 3 strings are already unicode literals\n",
    "df = df.rename(columns = {\n",
    "    u'12 BP Solar - Active Power (kW)':'power',\n",
    "    u'12 BP Solar - Wind Speed (m/s)': 'wind',\n",
    "    u'12 BP Solar - Weather Temperature Celsius (\\xb0C)': 'Tamb',\n",
    "    u'12 BP Solar - Global Horizontal Radiation (W/m\\xb2)': 'ghi',\n",
    "    u'12 BP Solar - Diffuse Horizontal Radiation (W/m\\xb2)': 'dhi'\n",
    "})\n",
    "\n",
    "# Specify the Metadata\n",
    "meta = {\"latitude\": -23.762028,\n",
    "        \"longitude\": 133.874886,\n",
    "        \"timezone\": 'Australia/North',\n",
    "        \"tempco\": -0.005,\n",
    "        \"azimuth\": 0,\n",
    "        \"tilt\": 20,\n",
    "        \"pdc\": 5100.0,\n",
    "        \"temp_model\": 'open_rack_cell_polymerback'}\n",
    "\n",
    "df.index = pd.to_datetime(df.Timestamp)\n",
    "# TZ is required for irradiance transposition\n",
    "df.index = df.index.tz_localize(meta['timezone'], ambiguous = 'infer') \n",
    "\n",
    "# Explicitly trim the dates so that runs of this example notebook \n",
    "# are comparable when the sourec dataset has been downloaded at different times\n",
    "df = df['2008-11-11':'2017-05-15']\n",
    "\n",
    "# Chage power from kilowatts to watts\n",
    "df['power'] = df.power * 1000.0\n",
    "\n",
    "# There is some missing data, but we can infer the frequency from the first several data points\n",
    "freq = pd.infer_freq(df.index[:10])\n",
    "\n",
    "# Then set the frequency of the dataframe.\n",
    "# It is reccomended not to up- or downsample at this step\n",
    "# but rather to use interpolate to regularize the time series\n",
    "# to it's dominant or underlying frequency. Interpolate is not\n",
    "# generally recomended for downsampleing in this applicaiton.\n",
    "# df = rdtools.interpolate(df, freq, pd.to_timedelta('15 minutes'))\n",
    "\n",
    "# Calculate energy yield in Wh\n",
    "# df['energy'] = rdtools.energy_from_power(df.power, max_timedelta=pd.to_timedelta('15 minutes'))\n",
    "\n",
    "# Calculate POA irradiance from DHI, GHI inputs\n",
    "loc = pvlib.location.Location(meta['latitude'], meta['longitude'], tz = meta['timezone'])\n",
    "sun = loc.get_solarposition(df.index)\n",
    "\n",
    "# calculate the POA irradiance\n",
    "sky = pvlib.irradiance.isotropic(meta['tilt'], df.dhi)\n",
    "df['dni'] = (df.ghi - df.dhi)/np.cos(np.deg2rad(sun.zenith))\n",
    "beam = pvlib.irradiance.beam_component(meta['tilt'], meta['azimuth'], sun.zenith, sun.azimuth, df.dni)\n",
    "df['poa'] = beam + sky\n",
    "\n",
    "# Calculate cell temperature\n",
    "# df_temp = pvlib.pvsystem.sapm_celltemp(df.poa, df.wind, df.Tamb, model = meta['temp_model'])\n",
    "# df['Tcell'] = df_temp.temp_cell\n",
    "\n",
    "# plot the AC power time series\n",
    "# fig, ax = plt.subplots(figsize=(4,3))\n",
    "# ax.plot(df.index, df.power, 'o', alpha = 0.01)\n",
    "# ax.set_ylim(0,7000)\n",
    "# fig.autofmt_xdate()\n",
    "# ax.set_ylabel('AC Power (W)');"
   ]
  },
  {
   "cell_type": "markdown",
   "metadata": {},
   "source": [
    "# Use of the object oriented system analysis API"
   ]
  },
  {
   "cell_type": "code",
   "execution_count": 8,
   "metadata": {},
   "outputs": [],
   "source": [
    "sa = rdtools.system_analysis(df['power'], df['poa'], df['Tamb'], meta['tempco'],\n",
    "                    interp_freq=freq, max_timedelta=pd.to_timedelta('15 minutes'), temperature_input='ambient',\n",
    "                    pvlib_location=loc, windspeed=df['wind'], pv_tilt=meta['tilt'], pv_azimuth=meta['azimuth'],\n",
    "                    temperature_model=meta['temp_model'], albedo=0)"
   ]
  },
  {
   "cell_type": "code",
   "execution_count": 9,
   "metadata": {},
   "outputs": [],
   "source": [
    "sa.sensor_analysis(analyses=['yoy_degradation', 'srr_soiling' ], srr_kwargs={'reps':10})"
   ]
  },
  {
   "cell_type": "code",
   "execution_count": 10,
   "metadata": {},
   "outputs": [],
   "source": [
    "yoy_results = sa.results['sensor']['yoy_degradation']\n",
    "srr_results = sa.results['sensor']['srr_soiling']"
   ]
  },
  {
   "cell_type": "code",
   "execution_count": 11,
   "metadata": {},
   "outputs": [
    {
     "name": "stdout",
     "output_type": "stream",
     "text": [
      "-0.4298620116090196\n",
      "[-0.52979552 -0.32653141]\n"
     ]
    }
   ],
   "source": [
    "print(yoy_results['p50_rd'])\n",
    "print(yoy_results['rd_confidence_interval'])"
   ]
  },
  {
   "cell_type": "code",
   "execution_count": 12,
   "metadata": {},
   "outputs": [
    {
     "name": "stdout",
     "output_type": "stream",
     "text": [
      "0.9685578920246846\n",
      "[0.96035895 0.97404029]\n"
     ]
    }
   ],
   "source": [
    "print(srr_results['p50_sratio'])\n",
    "print(srr_results['sratio_confidence_interval'])"
   ]
  },
  {
   "cell_type": "code",
   "execution_count": 13,
   "metadata": {},
   "outputs": [
    {
     "name": "stderr",
     "output_type": "stream",
     "text": [
      "/anaconda2/envs/rdtools_model_chains/lib/python3.6/site-packages/pandas/core/indexes/base.py:2820: FutureWarning: Converting timezone-aware DatetimeArray to timezone-naive ndarray with 'datetime64[ns]' dtype. In the future, this will return an ndarray with 'object' dtype where each element is a 'pandas.Timestamp' with the correct 'tz'.\n",
      "\tTo accept the future behavior, pass 'dtype=object'.\n",
      "\tTo keep the old behavior, pass 'dtype=\"datetime64[ns]\"'.\n",
      "  target = np.asarray(target)\n"
     ]
    }
   ],
   "source": [
    "sa.clearsky_analysis()"
   ]
  },
  {
   "cell_type": "code",
   "execution_count": 15,
   "metadata": {},
   "outputs": [
    {
     "name": "stdout",
     "output_type": "stream",
     "text": [
      "-0.10509950704660209\n",
      "[-0.26859504  0.06104611]\n"
     ]
    }
   ],
   "source": [
    "cs_yoy_results = sa.results['clearsky']['yoy_degradation']\n",
    "print(cs_yoy_results['p50_rd'])\n",
    "print(cs_yoy_results['rd_confidence_interval'])"
   ]
  },
  {
   "cell_type": "code",
   "execution_count": null,
   "metadata": {},
   "outputs": [],
   "source": []
  }
 ],
 "metadata": {
  "anaconda-cloud": {},
  "kernelspec": {
   "display_name": "Python [conda env:rdtools_model_chains]",
   "language": "python",
   "name": "conda-env-rdtools_model_chains-py"
  },
  "language_info": {
   "codemirror_mode": {
    "name": "ipython",
    "version": 3
   },
   "file_extension": ".py",
   "mimetype": "text/x-python",
   "name": "python",
   "nbconvert_exporter": "python",
   "pygments_lexer": "ipython3",
   "version": "3.6.8"
  }
 },
 "nbformat": 4,
 "nbformat_minor": 1
}
