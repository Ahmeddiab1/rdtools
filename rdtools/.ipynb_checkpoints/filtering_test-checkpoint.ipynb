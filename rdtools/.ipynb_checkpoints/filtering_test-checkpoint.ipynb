{
 "cells": [
  {
   "cell_type": "markdown",
   "metadata": {},
   "source": [
    "# Filtering test\n",
    "This notebook can be run to test the clearsky filtering implemented in `filtering.py`."
   ]
  },
  {
   "cell_type": "markdown",
   "metadata": {},
   "source": [
    "## Get irradiance data from NREL\n",
    "\n",
    "To download irradiance data from NREL's Solar Radiation Research Laboratory:\n",
    "1. Visit https://www.nrel.gov/midc/srrl_bms\n",
    "2. Choose the start and end dates to get ~ 1 month of data\n",
    "3. Check the irradiance parameter, `Global 40-South CMP11`\n",
    "4. Check the first output parameter, `Selected 1-Min Data (ASCII Text)`\n",
    "5. Download the data by clicking `Submit`\n",
    "6. Update the variable `data_loc` below to point to the downloaded `.csv` file"
   ]
  },
  {
   "cell_type": "code",
   "execution_count": 6,
   "metadata": {
    "collapsed": false
   },
   "outputs": [
    {
     "name": "stdout",
     "output_type": "stream",
     "text": [
      "2015-08-23 05:23:00-07:00    1.82817\n",
      "2015-08-23 05:24:00-07:00    1.91263\n",
      "2015-08-23 05:25:00-07:00    2.19580\n",
      "2015-08-23 05:26:00-07:00    3.00556\n",
      "2015-08-23 05:27:00-07:00    3.74577\n",
      "Freq: T, Name: Global 40-South CMP11 [W/m^2], dtype: float64\n"
     ]
    }
   ],
   "source": [
    "data_loc = 'C:\\Users\\druth\\Downloads\\\\20150823.csv'\n",
    "import pandas as pd\n",
    "data = pd.read_csv(data_loc)\n",
    "data['time'] = data.iloc[:,0] + ' ' + data.iloc[:,1]\n",
    "data = data.set_index(pd.to_datetime(data['time']))\n",
    "data.index = data.index.tz_localize('Etc/GMT+7')\n",
    "data = data[~data.index.duplicated(keep='first')]\n",
    "data = data.reindex(index=pd.date_range(start=data.index[0],end=data.index[-1],freq='1T')).fillna(0) # Since nighttime times might not be included\n",
    "irrad_long = data['Global 40-South CMP11 [W/m^2]']\n",
    "print(irrad_long.head())"
   ]
  },
  {
   "cell_type": "markdown",
   "metadata": {},
   "source": [
    "## Down-sample the data to some desired frequency\n",
    "The data from NREL is minutely; to test at slower frequencies, first down-sample the data. Here we will downsample to 30-minute, left-labelled bins."
   ]
  },
  {
   "cell_type": "code",
   "execution_count": 7,
   "metadata": {
    "collapsed": false
   },
   "outputs": [
    {
     "name": "stdout",
     "output_type": "stream",
     "text": [
      "2015-08-23 05:00:00-07:00      3.199307\n",
      "2015-08-23 05:30:00-07:00     20.811410\n",
      "2015-08-23 06:00:00-07:00     65.845247\n",
      "2015-08-23 06:30:00-07:00    142.603107\n",
      "2015-08-23 07:00:00-07:00    275.439200\n",
      "Freq: 30T, Name: Global 40-South CMP11 [W/m^2], dtype: float64\n"
     ]
    }
   ],
   "source": [
    "freq = 30 # minutes\n",
    "irrad = irrad_long.resample(str(freq)+'T',label='left').mean()\n",
    "data_filtered = data.resample(str(freq)+'T',label='left').mean()\n",
    "print(irrad.head())"
   ]
  },
  {
   "cell_type": "markdown",
   "metadata": {},
   "source": [
    "## Specify the properties of the PV system\n",
    "This includes the coordinates and elevation of the system as well as its tilt and azimuth angles."
   ]
  },
  {
   "cell_type": "code",
   "execution_count": 8,
   "metadata": {
    "collapsed": true
   },
   "outputs": [],
   "source": [
    "# properties of the PV system at South Table \n",
    "latlon = [39.742,-105.18]\n",
    "tilt = 40\n",
    "azimuth = 180\n",
    "elevation = 1828.8"
   ]
  },
  {
   "cell_type": "markdown",
   "metadata": {},
   "source": [
    "## Perform the clearsky filtering\n",
    "First, create a model for the system with `PVLib`. Then, call `remove_cloudy_times`, which will filter out rows from the dataframe `data` when the series `irrad` is determined to be cloudy. Finally, based on which times are determined to be clear (stored in `is_clear`), filter out entire cloudy days from `irrad` with `remove_cloudy_days`."
   ]
  },
  {
   "cell_type": "code",
   "execution_count": 9,
   "metadata": {
    "collapsed": false
   },
   "outputs": [
    {
     "name": "stdout",
     "output_type": "stream",
     "text": [
      "30.0\n",
      "[ True  True  True ...,  True False False]\n"
     ]
    },
    {
     "ename": "ValueError",
     "evalue": "Item wrong length 1514 instead of 45392.",
     "output_type": "error",
     "traceback": [
      "\u001b[0;31m---------------------------------------------------------------------------\u001b[0m",
      "\u001b[0;31mValueError\u001b[0m                                Traceback (most recent call last)",
      "\u001b[0;32m<ipython-input-9-4d274a465150>\u001b[0m in \u001b[0;36m<module>\u001b[0;34m()\u001b[0m\n\u001b[1;32m      9\u001b[0m \u001b[1;33m\u001b[0m\u001b[0m\n\u001b[1;32m     10\u001b[0m \u001b[1;31m# Remove the cloudy times with filtering.py\u001b[0m\u001b[1;33m\u001b[0m\u001b[1;33m\u001b[0m\u001b[0m\n\u001b[0;32m---> 11\u001b[0;31m \u001b[0mdf_filtered\u001b[0m\u001b[1;33m,\u001b[0m \u001b[0mis_clear\u001b[0m \u001b[1;33m=\u001b[0m \u001b[0mfiltering\u001b[0m\u001b[1;33m.\u001b[0m\u001b[0mremove_cloudy_times\u001b[0m\u001b[1;33m(\u001b[0m\u001b[0mdata\u001b[0m\u001b[1;33m,\u001b[0m\u001b[0mirrad\u001b[0m\u001b[1;33m,\u001b[0m\u001b[0msystem_loc\u001b[0m\u001b[1;33m,\u001b[0m\u001b[0mviz\u001b[0m\u001b[1;33m=\u001b[0m\u001b[0mTrue\u001b[0m\u001b[1;33m,\u001b[0m\u001b[0mcorrect_bin_labelling\u001b[0m\u001b[1;33m=\u001b[0m\u001b[0mTrue\u001b[0m\u001b[1;33m,\u001b[0m\u001b[0mreturn_when_clear\u001b[0m\u001b[1;33m=\u001b[0m\u001b[0mTrue\u001b[0m\u001b[1;33m)\u001b[0m\u001b[1;33m\u001b[0m\u001b[0m\n\u001b[0m\u001b[1;32m     12\u001b[0m \u001b[1;33m\u001b[0m\u001b[0m\n\u001b[1;32m     13\u001b[0m \u001b[1;31m# Based on these cloudy times, remove the cloudy days\u001b[0m\u001b[1;33m\u001b[0m\u001b[1;33m\u001b[0m\u001b[0m\n",
      "\u001b[0;32mC:\\Users\\druth\\Documents\\GitHub\\rdtools\\rdtools\\filtering.py\u001b[0m in \u001b[0;36mremove_cloudy_times\u001b[0;34m(df, irrad, system_loc, viz, correct_bin_labelling, return_when_clear)\u001b[0m\n\u001b[1;32m    125\u001b[0m     \u001b[1;32mprint\u001b[0m\u001b[1;33m(\u001b[0m\u001b[0mis_clear\u001b[0m\u001b[1;33m)\u001b[0m\u001b[1;33m\u001b[0m\u001b[0m\n\u001b[1;32m    126\u001b[0m     \u001b[1;31m# Remove rows corresponding to cloudy times\u001b[0m\u001b[1;33m\u001b[0m\u001b[1;33m\u001b[0m\u001b[0m\n\u001b[0;32m--> 127\u001b[0;31m     \u001b[0mdf_filtered\u001b[0m \u001b[1;33m=\u001b[0m \u001b[0mdf\u001b[0m\u001b[1;33m.\u001b[0m\u001b[0mcopy\u001b[0m\u001b[1;33m(\u001b[0m\u001b[1;33m)\u001b[0m\u001b[1;33m[\u001b[0m\u001b[0mis_clear\u001b[0m\u001b[1;33m==\u001b[0m\u001b[0mTrue\u001b[0m\u001b[1;33m]\u001b[0m\u001b[1;33m\u001b[0m\u001b[0m\n\u001b[0m\u001b[1;32m    128\u001b[0m \u001b[1;33m\u001b[0m\u001b[0m\n\u001b[1;32m    129\u001b[0m     \u001b[1;31m# Plot the unfiltered and filtered data\u001b[0m\u001b[1;33m\u001b[0m\u001b[1;33m\u001b[0m\u001b[0m\n",
      "\u001b[0;32mC:\\Users\\druth\\Anaconda2\\Lib\\site-packages\\pandas\\core\\frame.pyc\u001b[0m in \u001b[0;36m__getitem__\u001b[0;34m(self, key)\u001b[0m\n\u001b[1;32m   2051\u001b[0m         \u001b[1;32mif\u001b[0m \u001b[0misinstance\u001b[0m\u001b[1;33m(\u001b[0m\u001b[0mkey\u001b[0m\u001b[1;33m,\u001b[0m \u001b[1;33m(\u001b[0m\u001b[0mSeries\u001b[0m\u001b[1;33m,\u001b[0m \u001b[0mnp\u001b[0m\u001b[1;33m.\u001b[0m\u001b[0mndarray\u001b[0m\u001b[1;33m,\u001b[0m \u001b[0mIndex\u001b[0m\u001b[1;33m,\u001b[0m \u001b[0mlist\u001b[0m\u001b[1;33m)\u001b[0m\u001b[1;33m)\u001b[0m\u001b[1;33m:\u001b[0m\u001b[1;33m\u001b[0m\u001b[0m\n\u001b[1;32m   2052\u001b[0m             \u001b[1;31m# either boolean or fancy integer index\u001b[0m\u001b[1;33m\u001b[0m\u001b[1;33m\u001b[0m\u001b[0m\n\u001b[0;32m-> 2053\u001b[0;31m             \u001b[1;32mreturn\u001b[0m \u001b[0mself\u001b[0m\u001b[1;33m.\u001b[0m\u001b[0m_getitem_array\u001b[0m\u001b[1;33m(\u001b[0m\u001b[0mkey\u001b[0m\u001b[1;33m)\u001b[0m\u001b[1;33m\u001b[0m\u001b[0m\n\u001b[0m\u001b[1;32m   2054\u001b[0m         \u001b[1;32melif\u001b[0m \u001b[0misinstance\u001b[0m\u001b[1;33m(\u001b[0m\u001b[0mkey\u001b[0m\u001b[1;33m,\u001b[0m \u001b[0mDataFrame\u001b[0m\u001b[1;33m)\u001b[0m\u001b[1;33m:\u001b[0m\u001b[1;33m\u001b[0m\u001b[0m\n\u001b[1;32m   2055\u001b[0m             \u001b[1;32mreturn\u001b[0m \u001b[0mself\u001b[0m\u001b[1;33m.\u001b[0m\u001b[0m_getitem_frame\u001b[0m\u001b[1;33m(\u001b[0m\u001b[0mkey\u001b[0m\u001b[1;33m)\u001b[0m\u001b[1;33m\u001b[0m\u001b[0m\n",
      "\u001b[0;32mC:\\Users\\druth\\Anaconda2\\Lib\\site-packages\\pandas\\core\\frame.pyc\u001b[0m in \u001b[0;36m_getitem_array\u001b[0;34m(self, key)\u001b[0m\n\u001b[1;32m   2088\u001b[0m             \u001b[1;32melif\u001b[0m \u001b[0mlen\u001b[0m\u001b[1;33m(\u001b[0m\u001b[0mkey\u001b[0m\u001b[1;33m)\u001b[0m \u001b[1;33m!=\u001b[0m \u001b[0mlen\u001b[0m\u001b[1;33m(\u001b[0m\u001b[0mself\u001b[0m\u001b[1;33m.\u001b[0m\u001b[0mindex\u001b[0m\u001b[1;33m)\u001b[0m\u001b[1;33m:\u001b[0m\u001b[1;33m\u001b[0m\u001b[0m\n\u001b[1;32m   2089\u001b[0m                 raise ValueError('Item wrong length %d instead of %d.' %\n\u001b[0;32m-> 2090\u001b[0;31m                                  (len(key), len(self.index)))\n\u001b[0m\u001b[1;32m   2091\u001b[0m             \u001b[1;31m# check_bool_indexer will throw exception if Series key cannot\u001b[0m\u001b[1;33m\u001b[0m\u001b[1;33m\u001b[0m\u001b[0m\n\u001b[1;32m   2092\u001b[0m             \u001b[1;31m# be reindexed to match DataFrame rows\u001b[0m\u001b[1;33m\u001b[0m\u001b[1;33m\u001b[0m\u001b[0m\n",
      "\u001b[0;31mValueError\u001b[0m: Item wrong length 1514 instead of 45392."
     ]
    }
   ],
   "source": [
    "import pvlib\n",
    "import matplotlib.pyplot as plt\n",
    "import filtering\n",
    "\n",
    "# model the solar panel with PVLib\n",
    "system_noloc = pvlib.pvsystem.PVSystem(surface_tilt=tilt,surface_azimuth=azimuth)\n",
    "loc = pvlib.location.Location(latlon[0],latlon[1],altitude=elevation)\n",
    "system_loc = pvlib.pvsystem.LocalizedPVSystem(pvsystem=system_noloc,location=loc)\n",
    "\n",
    "# Remove the cloudy times with filtering.py\n",
    "df_filtered, is_clear = filtering.remove_cloudy_times(data_filtered,irrad,system_loc,viz=True,correct_bin_labelling=True,return_when_clear=True)    \n",
    "\n",
    "# Based on these cloudy times, remove the cloudy days\n",
    "just_clear_days = filtering.remove_cloudy_days(irrad,is_clear,start_time='8:00',end_time='16:00',thresh=0.8)"
   ]
  },
  {
   "cell_type": "code",
   "execution_count": null,
   "metadata": {
    "collapsed": false
   },
   "outputs": [],
   "source": []
  },
  {
   "cell_type": "code",
   "execution_count": null,
   "metadata": {
    "collapsed": false
   },
   "outputs": [],
   "source": []
  },
  {
   "cell_type": "code",
   "execution_count": null,
   "metadata": {
    "collapsed": true
   },
   "outputs": [],
   "source": []
  }
 ],
 "metadata": {
  "anaconda-cloud": {},
  "kernelspec": {
   "display_name": "Python [conda root]",
   "language": "python",
   "name": "conda-root-py"
  },
  "language_info": {
   "codemirror_mode": {
    "name": "ipython",
    "version": 2
   },
   "file_extension": ".py",
   "mimetype": "text/x-python",
   "name": "python",
   "nbconvert_exporter": "python",
   "pygments_lexer": "ipython2",
   "version": "2.7.13"
  }
 },
 "nbformat": 4,
 "nbformat_minor": 1
}
